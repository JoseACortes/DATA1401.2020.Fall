{
  "nbformat": 4,
  "nbformat_minor": 0,
  "metadata": {
    "colab": {
      "name": "Copy of Lab-2.ipynb",
      "provenance": [],
      "collapsed_sections": []
    },
    "kernelspec": {
      "display_name": "Python 3",
      "language": "python",
      "name": "python3"
    },
    "language_info": {
      "codemirror_mode": {
        "name": "ipython",
        "version": 3
      },
      "file_extension": ".py",
      "mimetype": "text/x-python",
      "name": "python",
      "nbconvert_exporter": "python",
      "pygments_lexer": "ipython3",
      "version": "3.8.0"
    }
  },
  "cells": [
    {
      "cell_type": "markdown",
      "metadata": {
        "id": "uk7yc0nadBGa"
      },
      "source": [
        "# Lab 2\n",
        "\n"
      ]
    },
    {
      "cell_type": "markdown",
      "metadata": {
        "id": "u9RAhs5b4vXY"
      },
      "source": [
        "\n",
        "## Make your fork private\n",
        "\n",
        "Navigate your fork of the course repository on GitHub and click the \"gear\" icon to change the settings. Select \"Options\" on the left and scroll all the way down. Then click on \"Make Private\" to make your repository private. \n",
        "\n",
        "Next select the collaborators on the left and add your Professor as a collaborator. "
      ]
    },
    {
      "cell_type": "markdown",
      "metadata": {
        "id": "q-gMWiE4dBG_"
      },
      "source": [
        "## Python Programming\n",
        "\n",
        "In the remainder of this lab you will practice python by solving some simple exercises. \n",
        "\n",
        "*Exercise 1:* Write 2 functions `even(x)` and `odd(x)` that take an integer and returns True if the input is even or odd, otherwise returns False. Use cell below for your solution. Use the subsequent cell to demonstrate that your solution works. Feel free to add additional cell as needed using the \"+\" button on the button bar above. "
      ]
    },
    {
      "cell_type": "code",
      "metadata": {
        "id": "jwN5jff1dBG_"
      },
      "source": [
        "def even(number):\n",
        "  t = number%2\n",
        "  if t == 0:\n",
        "    ev = True\n",
        "    print(str(ev)+', '+str(number)+' is even')\n",
        "    return True\n",
        "  else:\n",
        "    ev = False\n",
        "    print(str(ev)+', '+str(number)+' is not even')\n",
        "    return False\n",
        "\n",
        "def odd(number):\n",
        "  t = number%2\n",
        "  if t == 1:\n",
        "    od = True\n",
        "    print(str(od)+', '+str(number)+ ' is odd')\n",
        "    return True\n",
        "  else:\n",
        "    od = False\n",
        "    print(str(od)+', '+str(number)+ ' is not odd')\n",
        "    return False"
      ],
      "execution_count": null,
      "outputs": []
    },
    {
      "cell_type": "code",
      "metadata": {
        "id": "xNJAcodhdBHB",
        "outputId": "36dc6205-df1c-470d-a440-f2406f64eb71",
        "colab": {
          "base_uri": "https://localhost:8080/",
          "height": 102
        }
      },
      "source": [
        "odd(3)\n",
        "even(4)\n",
        "even(77)\n",
        "odd(59482)"
      ],
      "execution_count": null,
      "outputs": [
        {
          "output_type": "stream",
          "text": [
            "True, 3 is odd\n",
            "True, 4 is even\n",
            "False, 77 is not even\n",
            "False, 59482 is not odd\n"
          ],
          "name": "stdout"
        },
        {
          "output_type": "execute_result",
          "data": {
            "text/plain": [
              "False"
            ]
          },
          "metadata": {
            "tags": []
          },
          "execution_count": 2
        }
      ]
    },
    {
      "cell_type": "markdown",
      "metadata": {
        "id": "KL_pyzG8dBHD"
      },
      "source": [
        "*Exercise 2:* Write a function that takes a list of numbers as input and returns a list of the subset of elements that are less that 10. Test your solution."
      ]
    },
    {
      "cell_type": "code",
      "metadata": {
        "id": "g8nt0wnldBHE"
      },
      "source": [
        "def cutA(LisA):\n",
        "  cutL = []\n",
        "  for i in LisA:\n",
        "    if i < 10:\n",
        "      cutL.append(i)\n",
        "  return cutL"
      ],
      "execution_count": null,
      "outputs": []
    },
    {
      "cell_type": "code",
      "metadata": {
        "id": "__HTUWA1dBHH",
        "outputId": "be3a012b-94d0-4079-b3a8-0b0175ce29ff",
        "colab": {
          "base_uri": "https://localhost:8080/",
          "height": 34
        }
      },
      "source": [
        "TLisA = [15, 3, 2, 0, 17, 20131314124, 1231241166, 9, 10]\n",
        "answer_2 = cutA(TLisA)\n",
        "print(answer_2)"
      ],
      "execution_count": null,
      "outputs": [
        {
          "output_type": "stream",
          "text": [
            "[3, 2, 0, 9]\n"
          ],
          "name": "stdout"
        }
      ]
    },
    {
      "cell_type": "markdown",
      "metadata": {
        "id": "T0cx91JudBHK"
      },
      "source": [
        "*Exercise 3:* Write a function that takes a number `x_max` as input and returns a function that performs the same task as exercise 2, but for `x_max` instead of 10."
      ]
    },
    {
      "cell_type": "code",
      "metadata": {
        "id": "PqummMcmdBHK"
      },
      "source": [
        "def cutB(LisB, x_max):\n",
        "  cutL = []\n",
        "  for i in LisB:\n",
        "    if i < x_max:\n",
        "      cutL.append(i)\n",
        "  return cutL"
      ],
      "execution_count": null,
      "outputs": []
    },
    {
      "cell_type": "code",
      "metadata": {
        "id": "evRYemjXdBHN",
        "outputId": "246b1b8e-870e-4bcc-a457-1d8ecee47f6e",
        "colab": {
          "base_uri": "https://localhost:8080/",
          "height": 34
        }
      },
      "source": [
        "TlisB = [101, 99, 100, 5, 13, 400, 34141, 1354151345135, 6]\n",
        "answer_3 = cutB(TlisB, 100)\n",
        "print(answer_3)"
      ],
      "execution_count": null,
      "outputs": [
        {
          "output_type": "stream",
          "text": [
            "[99, 5, 13, 6]\n"
          ],
          "name": "stdout"
        }
      ]
    },
    {
      "cell_type": "markdown",
      "metadata": {
        "id": "h0I8M27LdBHP"
      },
      "source": [
        "*Exercise 4:* Write a function that takes an interger as input and returns a list of all divisors of that number."
      ]
    },
    {
      "cell_type": "code",
      "metadata": {
        "id": "k6GUpDyrdBHP"
      },
      "source": [
        "def divisors(X):\n",
        "  LoDiv = []\n",
        "  for i in range(X):\n",
        "    if X%(i+1) == 0:\n",
        "      LoDiv.append(i+1)\n",
        "  return LoDiv"
      ],
      "execution_count": null,
      "outputs": []
    },
    {
      "cell_type": "code",
      "metadata": {
        "id": "YDvRmft-dBHR",
        "outputId": "b7c79c33-3663-4fc5-f89c-cefaa503beba",
        "colab": {
          "base_uri": "https://localhost:8080/",
          "height": 34
        }
      },
      "source": [
        "answer_4 = divisors(100)\n",
        "print(answer_4)"
      ],
      "execution_count": null,
      "outputs": [
        {
          "output_type": "stream",
          "text": [
            "[1, 2, 4, 5, 10, 20, 25, 50, 100]\n"
          ],
          "name": "stdout"
        }
      ]
    },
    {
      "cell_type": "markdown",
      "metadata": {
        "id": "IOWnLMvxdBHT"
      },
      "source": [
        "*Exercise 5:* Write a function that takes 2 lists as input and returns a list that contains only the elements that are common between the lists (without duplicates). Make sure your program works on two lists of different sizes."
      ]
    },
    {
      "cell_type": "code",
      "metadata": {
        "id": "tR31bnTDdBHT"
      },
      "source": [
        "def commonEl(Lis1, Lis2):\n",
        "  common = []\n",
        "  for i in Lis1:\n",
        "    for t in Lis2:\n",
        "      if i == t:\n",
        "        common.append(i)\n",
        "  print(common)"
      ],
      "execution_count": null,
      "outputs": []
    },
    {
      "cell_type": "code",
      "metadata": {
        "id": "IJDf6ebYdBHV",
        "outputId": "8c86e4f9-98fe-44cd-e963-4b686e126ae6",
        "colab": {
          "base_uri": "https://localhost:8080/",
          "height": 34
        }
      },
      "source": [
        "TLis1 = [4, 7, 9, 1, 3]\n",
        "TLis2 = [5, 4, 2, 1, 12]\n",
        "commonEl(TLis1,TLis2)"
      ],
      "execution_count": null,
      "outputs": [
        {
          "output_type": "stream",
          "text": [
            "[4, 1]\n"
          ],
          "name": "stdout"
        }
      ]
    },
    {
      "cell_type": "markdown",
      "metadata": {
        "id": "3vA7M9pldBHX"
      },
      "source": [
        "*Exercise 6:* Write a function that reads takes a string and returns `True` if the string is a palindrome. (A palindrome is a string that reads the same forwards and backwards.)"
      ]
    },
    {
      "cell_type": "code",
      "metadata": {
        "id": "ncyMDzp6dBHX"
      },
      "source": [
        "def palindrome(word):\n",
        "  rev = word[::-1]\n",
        "  if word == rev:\n",
        "    return True\n",
        "  else:\n",
        "    return False"
      ],
      "execution_count": null,
      "outputs": []
    },
    {
      "cell_type": "code",
      "metadata": {
        "id": "v5cmVQ6MdBHZ",
        "outputId": "9e2cbe6a-1ddd-4da8-a692-cc4df33622ec",
        "colab": {
          "base_uri": "https://localhost:8080/",
          "height": 51
        }
      },
      "source": [
        "word = 'palap'\n",
        "notword = 'not a palindrome'\n",
        "\n",
        "print(palindrome(word))\n",
        "print(palindrome(notword))"
      ],
      "execution_count": null,
      "outputs": [
        {
          "output_type": "stream",
          "text": [
            "True\n",
            "False\n"
          ],
          "name": "stdout"
        }
      ]
    },
    {
      "cell_type": "markdown",
      "metadata": {
        "id": "fT35xwandBHc"
      },
      "source": [
        "*Exercise 7:* Write a Rock-Paper-Scissors game function, that takes 2 strings, the inputs of player 1 and player 2, and output 1 or 2 corresponding to which player wins, or 0 if draw.\n",
        "\n",
        "Implement a Rock-Paper-Scissors game by soliciting input from 2 players, testing with this function, and repeating if there is a draw.\n",
        "\n",
        "Remember the rules:\n",
        "\n",
        "* Rock beats scissors\n",
        "* Scissors beats paper\n",
        "* Paper beats rock"
      ]
    },
    {
      "cell_type": "code",
      "metadata": {
        "id": "U1_HxxaWdBHd"
      },
      "source": [
        "def RPS(Player1, Player2):\n",
        "  R = 'Rock'\n",
        "  P = 'Paper'\n",
        "  S = 'Scissors'\n",
        "  if Player1 == R:\n",
        "    if Player2 == R:\n",
        "      return 0\n",
        "    elif Player2 == P:\n",
        "      return 2\n",
        "    elif Player2 == S:\n",
        "      return 1 \n",
        "  elif Player1 == P:\n",
        "    if Player2 == R:\n",
        "      return 1\n",
        "    elif Player2 == P:\n",
        "      return 0\n",
        "    elif Player2 == S:\n",
        "      return 2\n",
        "  elif Player1 == S:\n",
        "    if Player2 == R:\n",
        "      return 2\n",
        "    if Player2 == P:\n",
        "      return 1\n",
        "    if Player2 == S:\n",
        "      return 0 \n",
        "\n",
        "def whoWins(game):\n",
        "  print(game)"
      ],
      "execution_count": null,
      "outputs": []
    },
    {
      "cell_type": "code",
      "metadata": {
        "id": "ooR2ldZBdBHf",
        "outputId": "1f5fae2e-144c-4b10-eeea-0f633276873d",
        "colab": {
          "base_uri": "https://localhost:8080/",
          "height": 34
        }
      },
      "source": [
        "TPlayer1 = 'Rock'\n",
        "TPlayer2 = 'Paper'\n",
        "\n",
        "winner = RPS(TPlayer1,TPlayer2)\n",
        "\n",
        "whoWins(winner)"
      ],
      "execution_count": null,
      "outputs": [
        {
          "output_type": "stream",
          "text": [
            "2\n"
          ],
          "name": "stdout"
        }
      ]
    },
    {
      "cell_type": "markdown",
      "metadata": {
        "id": "dJQzXNKzdBHh"
      },
      "source": [
        "*Exercise 8:* Write a function that takes a integer `n` as input and \n",
        "outputs a list of the first `n` Fibonnaci numbers.\n",
        "\n",
        "The Fibonnaci seqence is a sequence of numbers where the next number in the sequence is the sum of the previous two numbers in the sequence. The sequence looks like this: 1, 1, 2, 3, 5, 8, 13, …)"
      ]
    },
    {
      "cell_type": "code",
      "metadata": {
        "id": "G_4ooRXTdBHh"
      },
      "source": [
        "def fibb_create(n):\n",
        "  fibb_list = []\n",
        "  if n == 1:\n",
        "    fibb_list.append(1)\n",
        "  elif n == 2:\n",
        "    fibb_list.append(1)\n",
        "    fibb_list.append(1)\n",
        "  elif n > 2:\n",
        "    fibb_list.append(1)\n",
        "    fibb_list.append(1)\n",
        "    for f in range(n-2):\n",
        "      new = fibb_list[-2]+fibb_list[-1]\n",
        "      fibb_list.append(new)\n",
        "  return fibb_list"
      ],
      "execution_count": null,
      "outputs": []
    },
    {
      "cell_type": "code",
      "metadata": {
        "id": "rzK5FskJdBHj",
        "outputId": "2f2984b0-cf3d-4c1c-9d1c-b0f611006ec7",
        "colab": {
          "base_uri": "https://localhost:8080/",
          "height": 34
        }
      },
      "source": [
        "fibb_create(3)"
      ],
      "execution_count": null,
      "outputs": [
        {
          "output_type": "execute_result",
          "data": {
            "text/plain": [
              "[1, 1, 2]"
            ]
          },
          "metadata": {
            "tags": []
          },
          "execution_count": 27
        }
      ]
    },
    {
      "cell_type": "markdown",
      "metadata": {
        "id": "q6c_AskadBHl"
      },
      "source": [
        "*Exercise 9:* Write a function that takes a string of consisting of several words and returns a string that reverses the order of the words.\n"
      ]
    },
    {
      "cell_type": "code",
      "metadata": {
        "id": "aJdXX6FHdBHl"
      },
      "source": [
        "def reverse(text):\n",
        "  new_string = ''\n",
        "  t_list = text.split()\n",
        "  for w in range(len(t_list)):\n",
        "    new_string += (str(t_list[-w-1]))\n",
        "    if (len(t_list) - w) > 1:\n",
        "      new_string += ' '\n",
        "\n",
        "  return new_string"
      ],
      "execution_count": null,
      "outputs": []
    },
    {
      "cell_type": "code",
      "metadata": {
        "id": "nQyhnLZ_dBHn",
        "outputId": "d832163a-d774-4f2c-9e39-b1bbe2c4ffb7",
        "colab": {
          "base_uri": "https://localhost:8080/",
          "height": 35
        }
      },
      "source": [
        "reverse('A clown is a comic performer who employs slapstick or similar types of physical comedy often in a mime style')"
      ],
      "execution_count": null,
      "outputs": [
        {
          "output_type": "execute_result",
          "data": {
            "application/vnd.google.colaboratory.intrinsic+json": {
              "type": "string"
            },
            "text/plain": [
              "'style mime a in often comedy physical of types similar or slapstick employs who performer comic a is clown A'"
            ]
          },
          "metadata": {
            "tags": []
          },
          "execution_count": 61
        }
      ]
    },
    {
      "cell_type": "markdown",
      "metadata": {
        "id": "NFSmRaSydBHq"
      },
      "source": [
        "*Exercise 10:* Write a guessing game program that will repeatedly guess a number that the users picks, with the user indicating higher or lower, until it correctly guesses the number."
      ]
    },
    {
      "cell_type": "code",
      "metadata": {
        "id": "Ie2E1JzCdBHr"
      },
      "source": [
        "import random as rd\n",
        "def guessing_game():\n",
        "  right = 'n'\n",
        "  l_lim = 0\n",
        "  u_lim = 1000\n",
        "  print('pick a number between '+str(l_lim)+' and '+str(u_lim))\n",
        "  while right == 'n':\n",
        "    guess = rd.randint(l_lim, u_lim)\n",
        "    right = input('Is '+str(guess)+' the right number? (y/n):')\n",
        "    if right == 'y':\n",
        "      print('The number was '+str(guess))\n",
        "      break\n",
        "    elif right == 'n':\n",
        "      direction = input('Is your number higher or lower? (h/l):')\n",
        "      if direction == 'h':\n",
        "        l_lim = guess+1\n",
        "      elif direction == 'l':\n",
        "        u_lim = guess-1"
      ],
      "execution_count": null,
      "outputs": []
    },
    {
      "cell_type": "code",
      "metadata": {
        "id": "6T8YdWSMdBHs",
        "outputId": "fedad060-1580-4e2c-b6fd-d180066033f7",
        "colab": {
          "base_uri": "https://localhost:8080/",
          "height": 272
        }
      },
      "source": [
        "guessing_game()"
      ],
      "execution_count": null,
      "outputs": [
        {
          "output_type": "stream",
          "text": [
            "pick a number between 0 and 1000\n",
            "Is 911 the right number? (y/n)n\n",
            "Is your number higher or lower? (h/l)l\n",
            "Is 355 the right number? (y/n)n\n",
            "Is your number higher or lower? (h/l)l\n",
            "Is 205 the right number? (y/n)n\n",
            "Is your number higher or lower? (h/l)h\n",
            "Is 260 the right number? (y/n)n\n",
            "Is your number higher or lower? (h/l)l\n",
            "Is 253 the right number? (y/n)n\n",
            "Is your number higher or lower? (h/l)h\n",
            "Is 255 the right number? (y/n)n\n",
            "Is your number higher or lower? (h/l)l\n",
            "Is 254 the right number? (y/n)y\n",
            "The number was 254\n"
          ],
          "name": "stdout"
        }
      ]
    }
  ]
}