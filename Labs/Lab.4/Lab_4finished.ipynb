{
  "nbformat": 4,
  "nbformat_minor": 0,
  "metadata": {
    "kernelspec": {
      "display_name": "Python 3",
      "language": "python",
      "name": "python3"
    },
    "language_info": {
      "codemirror_mode": {
        "name": "ipython",
        "version": 3
      },
      "file_extension": ".py",
      "mimetype": "text/x-python",
      "name": "python",
      "nbconvert_exporter": "python",
      "pygments_lexer": "ipython3",
      "version": "3.8.0"
    },
    "colab": {
      "name": "Lab.4finished.ipynb",
      "provenance": [],
      "collapsed_sections": []
    }
  },
  "cells": [
    {
      "cell_type": "markdown",
      "metadata": {
        "id": "lpRXoSD9lCmQ"
      },
      "source": [
        "## Lab 4\n",
        "\n",
        "[![Open In Colab](https://colab.research.google.com/assets/colab-badge.svg)(https://colab.research.google.com/assets/colab-badge.svg)](https://colab.research.google.com/github/UTA-DataScience/DATA1401.2020.Fall/blob/master/Labs/Lab-4/Lab-4.ipynb)\n",
        "\n",
        "In this lab we will become familiar with distributions, histograms, and functional programming. \n",
        "\n",
        "\n",
        "### Uniform Distribution\n",
        "Lets start with generating some fake random data. You can get a random number between 0 and 1 using the python random module as follow:"
      ]
    },
    {
      "cell_type": "code",
      "metadata": {
        "id": "YeCxbSx9lCmR",
        "outputId": "4a2df27a-421a-49f8-bbf5-46caa6fa6dd4",
        "colab": {
          "base_uri": "https://localhost:8080/",
          "height": 34
        }
      },
      "source": [
        "import random\n",
        "x=random.random()\n",
        "print(\"The Value of x is\", x)"
      ],
      "execution_count": 1,
      "outputs": [
        {
          "output_type": "stream",
          "text": [
            "The Value of x is 0.018358988914630836\n"
          ],
          "name": "stdout"
        }
      ]
    },
    {
      "cell_type": "markdown",
      "metadata": {
        "id": "Luv-mbkllCmW"
      },
      "source": [
        "Everytime you call random, you will get a new number.\n",
        "\n",
        "*Exercise 1:* Using random, write a function `generate_uniform(N, mymin, mymax)`, that returns a python list containing N random numbers between specified minimum and maximum value. Note that you may want to quickly work out on paper how to turn numbers between 0 and 1 to between other values. "
      ]
    },
    {
      "cell_type": "code",
      "metadata": {
        "id": "uMV5U0Y7lCmW"
      },
      "source": [
        "# Skeleton\n",
        "def generate_uniform(N,x_min,x_max):\n",
        "    out = []\n",
        "    window = x_max-x_min\n",
        "    for i in range(N):\n",
        "      x = (random.random()*window)+x_min\n",
        "      out.append(x)    \n",
        "    ### END SOLUTION\n",
        "    return out"
      ],
      "execution_count": 2,
      "outputs": []
    },
    {
      "cell_type": "code",
      "metadata": {
        "id": "BiM_P6B9lCmZ",
        "outputId": "e7726d39-dc9e-457c-8d09-3c42002a637e",
        "colab": {
          "base_uri": "https://localhost:8080/",
          "height": 102
        }
      },
      "source": [
        "# Test your solution here\n",
        "data=generate_uniform(80,-10,10)\n",
        "print (\"Data Type:\", type(data))\n",
        "print (\"Data Length:\", len(data))\n",
        "if len(data)>0: \n",
        "    print (\"Type of Data Contents:\", type(data[0]))\n",
        "    print (\"Data Minimum:\", min(data))\n",
        "    print (\"Data Maximum:\", max(data))"
      ],
      "execution_count": 3,
      "outputs": [
        {
          "output_type": "stream",
          "text": [
            "Data Type: <class 'list'>\n",
            "Data Length: 80\n",
            "Type of Data Contents: <class 'float'>\n",
            "Data Minimum: -9.627981404156609\n",
            "Data Maximum: 9.596895267840956\n"
          ],
          "name": "stdout"
        }
      ]
    },
    {
      "cell_type": "markdown",
      "metadata": {
        "id": "4JRlsONHlCmc"
      },
      "source": [
        "*Exercise 2a:* \n",
        "Write a function that computes the mean of values in a list."
      ]
    },
    {
      "cell_type": "code",
      "metadata": {
        "id": "x-wivwe7lCmd"
      },
      "source": [
        "# Skeleton\n",
        "def mean(Data):\n",
        "    m=0.\n",
        "    m = sum(Data)/len(Data)\n",
        "    return m"
      ],
      "execution_count": 4,
      "outputs": []
    },
    {
      "cell_type": "code",
      "metadata": {
        "id": "9wfi2U6flCmf",
        "outputId": "7eb1d7b5-2748-47f1-fd2f-39d2e80cce30",
        "colab": {
          "base_uri": "https://localhost:8080/",
          "height": 34
        }
      },
      "source": [
        "# Test your solution here\n",
        "print (\"Mean of Data:\", mean(data))"
      ],
      "execution_count": 5,
      "outputs": [
        {
          "output_type": "stream",
          "text": [
            "Mean of Data: -0.5843230343435708\n"
          ],
          "name": "stdout"
        }
      ]
    },
    {
      "cell_type": "markdown",
      "metadata": {
        "id": "wj1zHoJRlCmh"
      },
      "source": [
        "*Exercise 2b:* \n",
        "Write a function that computes the variance of values in a list."
      ]
    },
    {
      "cell_type": "code",
      "metadata": {
        "id": "sXDFN7VylCmh"
      },
      "source": [
        "# Skeleton\n",
        "def variance(Data):\n",
        "    m=0.\n",
        "    u = mean(Data)\n",
        "    n = list()\n",
        "    for d in Data:\n",
        "      n.append((d-u)*(d-u))\n",
        "    m = sum(n)/(len(Data)-1)\n",
        "    return m"
      ],
      "execution_count": 6,
      "outputs": []
    },
    {
      "cell_type": "code",
      "metadata": {
        "id": "hD0UbgInlCmk",
        "outputId": "3cff5871-f425-4a17-da73-4a9064d59c21",
        "colab": {
          "base_uri": "https://localhost:8080/",
          "height": 34
        }
      },
      "source": [
        "# Test your solution here\n",
        "print (\"Variance of Data:\", variance(data))"
      ],
      "execution_count": 7,
      "outputs": [
        {
          "output_type": "stream",
          "text": [
            "Variance of Data: 30.91645352371313\n"
          ],
          "name": "stdout"
        }
      ]
    },
    {
      "cell_type": "markdown",
      "metadata": {
        "id": "I9zQJ2ihlCml"
      },
      "source": [
        "## Histogramming"
      ]
    },
    {
      "cell_type": "markdown",
      "metadata": {
        "id": "_fU4MG9PlCmm"
      },
      "source": [
        "*Exercise 3:* Write a function that bins the data so that you can create a histogram. An example of how to implement histogramming is the following logic:\n",
        "\n",
        "* User inputs a list of values `x` and optionally `n_bins` which defaults to 10.\n",
        "* If not supplied, find the minimum and maximum (`x_min`,`x_max`) of the values in x.\n",
        "* Determine the bin size (`bin_size`) by dividing the range of the function by the number of bins.\n",
        "* Create an empty list of zeros of size `n_bins`, call it `hist`.\n",
        "* Loop over the values in `x`\n",
        "    * Loop over the values in `hist` with index `i`:\n",
        "        * If x is between `x_min+i*bin_size` and `x_min+(i+1)*bin_size`, increment `hist[i].` \n",
        "        * For efficiency, try to use continue to goto the next bin and data point.\n",
        "* Return `hist` and the list corresponding of the bin edges (i.e. of `x_min+i*bin_size`).    "
      ]
    },
    {
      "cell_type": "code",
      "metadata": {
        "id": "29pxntMwlCmn"
      },
      "source": [
        "# Solution\n",
        "def histogram(x,n_bins=10,x_min=None,x_max=None):\n",
        "  #min/max\n",
        "  x_min = min(x)\n",
        "  x_max = max(x)\n",
        "  bin_size = (x_max-x_min)/n_bins\n",
        "  #empty bin\n",
        "  hist = []\n",
        "  for n in range(n_bins):\n",
        "    hist.append(0)\n",
        "  #filling bins\n",
        "  for i in range(len(hist)):\n",
        "    l_limit = x_min+i*bin_size\n",
        "    u_limit = l_limit+bin_size\n",
        "    for t in x:\n",
        "      if t > l_limit and t < u_limit:\n",
        "        hist[i] = hist[i]+1\n",
        "      elif t == l_limit:\n",
        "        hist[i] = hist[i]+1\n",
        "  if len(data) != sum(hist):\n",
        "    hist[-1] = hist[-1]+1\n",
        "  bin_edges = []\n",
        "  for i in range(len(hist)):\n",
        "    n = x_min+i*bin_size\n",
        "    bin_edges.append(n)\n",
        "  bin_edges.append(x_max)\n",
        "  return hist,bin_edges"
      ],
      "execution_count": 8,
      "outputs": []
    },
    {
      "cell_type": "code",
      "metadata": {
        "id": "-X1oh7TzlCmp",
        "outputId": "28d0b977-4d45-4120-ebe8-fe694b813f47",
        "colab": {
          "base_uri": "https://localhost:8080/",
          "height": 105
        }
      },
      "source": [
        "# Test your solution here\n",
        "h,b=histogram(data,20)\n",
        "print(len(data))\n",
        "print(h)\n",
        "print(sum(h))\n",
        "print(b)"
      ],
      "execution_count": 9,
      "outputs": [
        {
          "output_type": "stream",
          "text": [
            "80\n",
            "[5, 5, 5, 2, 4, 3, 5, 7, 2, 4, 7, 3, 5, 3, 3, 2, 6, 2, 3, 4]\n",
            "80\n",
            "[-9.627981404156609, -8.66673757055673, -7.705493736956853, -6.744249903356974, -5.783006069757096, -4.821762236157218, -3.8605184025573394, -2.8992745689574617, -1.9380307353575832, -0.9767869017577056, -0.015543068157827022, 0.9457007654420515, 1.90694459904193, 2.8681884326418086, 3.8294322662416853, 4.790676099841564, 5.751919933441442, 6.713163767041321, 7.674407600641198, 8.635651434241078, 9.596895267840956]\n"
          ],
          "name": "stdout"
        }
      ]
    },
    {
      "cell_type": "markdown",
      "metadata": {
        "id": "afyhCuehlCmq"
      },
      "source": [
        "*Exercise 4:* Write a function that uses the histogram function in the previous exercise to create a text-based \"graph\". For example the output could look like the following:\n",
        "```\n",
        "[  0,  1] : ######\n",
        "[  1,  2] : #####\n",
        "[  2,  3] : ######\n",
        "[  3,  4] : ####\n",
        "[  4,  5] : ####\n",
        "[  5,  6] : ######\n",
        "[  6,  7] : #####\n",
        "[  7,  8] : ######\n",
        "[  8,  9] : ####\n",
        "[  9, 10] : #####\n",
        "```\n",
        "\n",
        "Where each line corresponds to a bin and the number of `#`'s are proportional to the value of the data in the bin. "
      ]
    },
    {
      "cell_type": "code",
      "metadata": {
        "id": "hiu7WEHalCmr"
      },
      "source": [
        "# Solution\n",
        "def draw_histogram(x,n_bins,x_min=None,x_max=None,character=\"#\",max_character_per_line=20):\n",
        "    ### BEGIN SOLUTION\n",
        "    aa, ab = histogram(x,n_bins,x_min,x_max)\n",
        "    for i in range(n_bins):\n",
        "      if aa[i] > max_character_per_line:\n",
        "        aa[i] = max_character_per_line\n",
        "      n = aa[i]\n",
        "      c = character*n\n",
        "      t = '['+str(ab[i])+','+str(ab[i+1])+'] : '+c\n",
        "      print(t)\n",
        "    ### END SOLUTION"
      ],
      "execution_count": 10,
      "outputs": []
    },
    {
      "cell_type": "code",
      "metadata": {
        "id": "d2XJqLanlCms",
        "outputId": "56558e92-ab9f-48ff-da29-7140e1b25236",
        "colab": {
          "base_uri": "https://localhost:8080/",
          "height": 357
        }
      },
      "source": [
        "# Test your solution here\n",
        "draw_histogram(data,20)"
      ],
      "execution_count": 11,
      "outputs": [
        {
          "output_type": "stream",
          "text": [
            "[-9.627981404156609,-8.66673757055673] : #####\n",
            "[-8.66673757055673,-7.705493736956853] : #####\n",
            "[-7.705493736956853,-6.744249903356974] : #####\n",
            "[-6.744249903356974,-5.783006069757096] : ##\n",
            "[-5.783006069757096,-4.821762236157218] : ####\n",
            "[-4.821762236157218,-3.8605184025573394] : ###\n",
            "[-3.8605184025573394,-2.8992745689574617] : #####\n",
            "[-2.8992745689574617,-1.9380307353575832] : #######\n",
            "[-1.9380307353575832,-0.9767869017577056] : ##\n",
            "[-0.9767869017577056,-0.015543068157827022] : ####\n",
            "[-0.015543068157827022,0.9457007654420515] : #######\n",
            "[0.9457007654420515,1.90694459904193] : ###\n",
            "[1.90694459904193,2.8681884326418086] : #####\n",
            "[2.8681884326418086,3.8294322662416853] : ###\n",
            "[3.8294322662416853,4.790676099841564] : ###\n",
            "[4.790676099841564,5.751919933441442] : ##\n",
            "[5.751919933441442,6.713163767041321] : ######\n",
            "[6.713163767041321,7.674407600641198] : ##\n",
            "[7.674407600641198,8.635651434241078] : ###\n",
            "[8.635651434241078,9.596895267840956] : ####\n"
          ],
          "name": "stdout"
        }
      ]
    },
    {
      "cell_type": "markdown",
      "metadata": {
        "id": "09NHV998lCmw"
      },
      "source": [
        "## Functional Programming\n",
        "\n",
        "*Exercise 5:* Write a function the applies a booling function (that returns true/false) to every element in data, and return a list of indices of elements where the result was true. Use this function to find the indices of entries greater than 0.5. "
      ]
    },
    {
      "cell_type": "code",
      "metadata": {
        "id": "j6sQ3bSglCmx"
      },
      "source": [
        "def where(mylist,myfunc):\n",
        "    out= []\n",
        "    ### BEGIN SOLUTION\n",
        "    for i in range(len(mylist)):\n",
        "      n = mylist[i]\n",
        "      tempbool = myfunc(n)\n",
        "      if tempbool == True:\n",
        "        out.append(i)\n",
        "    ### END SOLUTION\n",
        "    \n",
        "    return out"
      ],
      "execution_count": 12,
      "outputs": []
    },
    {
      "cell_type": "code",
      "metadata": {
        "id": "D9Fya_m_N5pD"
      },
      "source": [
        "def pointfivefuction(number):\n",
        "  number = float(number)\n",
        "  if number > .5:\n",
        "    return True\n",
        "  else:\n",
        "    return False"
      ],
      "execution_count": 13,
      "outputs": []
    },
    {
      "cell_type": "code",
      "metadata": {
        "id": "WDoefURflCmz",
        "outputId": "e4beb326-307c-4494-c204-ab0e96ba33b3",
        "colab": {
          "base_uri": "https://localhost:8080/",
          "height": 34
        }
      },
      "source": [
        "test = [1, .2, 15, .000001, .4999999, .5, .5000000001]\n",
        "print(where(test, pointfivefuction))"
      ],
      "execution_count": 14,
      "outputs": [
        {
          "output_type": "stream",
          "text": [
            "[0, 2, 6]\n"
          ],
          "name": "stdout"
        }
      ]
    },
    {
      "cell_type": "markdown",
      "metadata": {
        "id": "0eIxvoJ4lCm3"
      },
      "source": [
        "*Exercise 6:* The inrange(mymin,mymax) function below returns a function that tests if it's input is between the specified values. Write corresponding functions that test:\n",
        "* Even\n",
        "* Odd\n",
        "* Greater than\n",
        "* Less than\n",
        "* Equal\n",
        "* Divisible by"
      ]
    },
    {
      "cell_type": "code",
      "metadata": {
        "id": "lzm6jpa0lCm4",
        "outputId": "b47a8879-ea77-4d86-b9f5-3fe2343363f6",
        "colab": {
          "base_uri": "https://localhost:8080/",
          "height": 85
        }
      },
      "source": [
        "def in_range(mymin,mymax):\n",
        "    def testrange(x):\n",
        "        return x<mymax and x>=mymin\n",
        "    return testrange\n",
        "\n",
        "# Examples:\n",
        "F1=in_range(0,10)\n",
        "F2=in_range(10,20)\n",
        "\n",
        "# Test of in_range\n",
        "print (F1(0), F1(1), F1(10), F1(15), F1(20))\n",
        "print (F2(0), F2(1), F2(10), F2(15), F2(20))\n",
        "\n",
        "print (\"Number of Entries passing F1:\", len(where(data,F1)))\n",
        "print (\"Number of Entries passing F2:\", len(where(data,F2)))"
      ],
      "execution_count": 17,
      "outputs": [
        {
          "output_type": "stream",
          "text": [
            "True True False False False\n",
            "False False True True False\n",
            "Number of Entries passing F1: 38\n",
            "Number of Entries passing F2: 0\n"
          ],
          "name": "stdout"
        }
      ]
    },
    {
      "cell_type": "code",
      "metadata": {
        "id": "2ti_re07lCm7"
      },
      "source": [
        "def even(number):\n",
        "  if int(str(abs(number))[-1])%2 == 0:\n",
        "    return True\n",
        "  else:\n",
        "    return False\n",
        "\n",
        "def odd(number):\n",
        "  if int(str(abs(number))[-1])%2 == 1:\n",
        "    return True\n",
        "  else:\n",
        "    return False\n",
        "\n",
        "def greaterthan(number, comparison):\n",
        "  if number > comparison:\n",
        "    return True\n",
        "  else:\n",
        "    return False\n",
        "\n",
        "def lessthan(number, comparison):\n",
        "  if number < comparison:\n",
        "    return True\n",
        "  else:\n",
        "    return False\n",
        "\n",
        "def equalto(number, comparison):\n",
        "  if number == comparison:\n",
        "    return True\n",
        "  else:\n",
        "    return False\n",
        "\n",
        "def divisibleby(number, comparison):\n",
        "  if abs(number)%abs(comparison) == 0:\n",
        "    return True\n",
        "  else:\n",
        "    return False"
      ],
      "execution_count": 18,
      "outputs": []
    },
    {
      "cell_type": "code",
      "metadata": {
        "id": "0ETKqpiVlCm9",
        "outputId": "ba0147b2-5694-477c-e079-4cc7ee401bff",
        "colab": {
          "base_uri": "https://localhost:8080/",
          "height": 323
        }
      },
      "source": [
        "print(even(14.005))\n",
        "print(even(2103148))\n",
        "print(even(-64.08))\n",
        "\n",
        "print(odd(14.005))\n",
        "print(odd(2103148))\n",
        "print(odd(-64.07))\n",
        "\n",
        "print(greaterthan(5, 0))\n",
        "print(greaterthan(0, 5))\n",
        "print(greaterthan(0, 0))\n",
        "\n",
        "print(lessthan(5, 0))\n",
        "print(lessthan(0, 5))\n",
        "print(lessthan(0, 0))\n",
        "\n",
        "print(equalto(5, 0))\n",
        "print(equalto(0, 5))\n",
        "print(equalto(0, 0))\n",
        "\n",
        "print(divisibleby(10, .5))\n",
        "print(divisibleby(9, -3))\n",
        "print(divisibleby(8, 3))"
      ],
      "execution_count": 19,
      "outputs": [
        {
          "output_type": "stream",
          "text": [
            "False\n",
            "True\n",
            "True\n",
            "True\n",
            "False\n",
            "True\n",
            "True\n",
            "False\n",
            "False\n",
            "False\n",
            "True\n",
            "False\n",
            "False\n",
            "False\n",
            "True\n",
            "True\n",
            "True\n",
            "False\n"
          ],
          "name": "stdout"
        }
      ]
    },
    {
      "cell_type": "markdown",
      "metadata": {
        "id": "5Rhpnpa8lCm_"
      },
      "source": [
        "*Exercise 7:* Repeat the previous exercise using `lambda` and the built-in python functions sum and map instead of your solution above. "
      ]
    },
    {
      "cell_type": "code",
      "metadata": {
        "id": "O9oLZ6GllCm_"
      },
      "source": [
        "### BEGIN SOLUTION\n",
        "even = lambda number: int(str(abs(number))[-1])%2 == 0\n",
        "odd = lambda number: int(str(abs(number))[-1])%2 == 1\n",
        "greaterthan = lambda number, comparison : number > comparison\n",
        "lessthan = lambda number, comparison : number < comparison\n",
        "equalto = lambda number, comparison : number == comparison\n",
        "divisibleby = lambda number, comparison : abs(number)%abs(comparison) == 0\n",
        "### END SOLUTION"
      ],
      "execution_count": 20,
      "outputs": []
    },
    {
      "cell_type": "markdown",
      "metadata": {
        "id": "P5yPMYWvlCnB"
      },
      "source": [
        "## Monte Carlo\n",
        "\n",
        "*Exercise 7:* Write a \"generator\" function called `generate_function(func,x_min,x_max,N)`, that instead of generating a flat distribution, generates a distribution with functional form coded in `func`. Note that `func` will always be > 0.  \n",
        "\n",
        "Use the test function below and your histogramming functions above to demonstrate that your generator is working properly.\n",
        "\n",
        "Hint: A simple, but slow, solution is to a draw random number test_x within the specified range and another number p between the min and max of the function (which you will have to determine). If p<=function(test_x), then place test_x on the output. If not, repeat the process, drawing two new numbers. Repeat until you have the specified number of generated numbers, N. For this problem, it's OK to determine the min and max by numerically sampling the function.  "
      ]
    },
    {
      "cell_type": "code",
      "metadata": {
        "id": "Vx9A4LnWlCnB"
      },
      "source": [
        "def generate_function(func,x_min,x_max,N=1000):\n",
        "    out = list()\n",
        "    func_min = func(x_min)\n",
        "    func_max = func(x_max)\n",
        "    for i in range((x_max-x_min)+1):\n",
        "      y = func(x_min+i)\n",
        "      if y < func_min:\n",
        "        func_min = y\n",
        "      elif y > func_max:\n",
        "        func_max = y\n",
        "    def randominrange(x_min, x_max):\n",
        "      difference = x_max-x_min\n",
        "      n = random.random()\n",
        "      n = n*difference+x_min\n",
        "      return n\n",
        "    while len(out) < N:\n",
        "      test_x = randominrange(x_min, x_max)\n",
        "      p = randominrange(func_min, func_max)\n",
        "      if p <=func(test_x):\n",
        "        out.append(test_x)\n",
        "    return out"
      ],
      "execution_count": 21,
      "outputs": []
    },
    {
      "cell_type": "code",
      "metadata": {
        "id": "kDhXctjRlCnD"
      },
      "source": [
        "# A test function\n",
        "def test_func(x,a=1,b=1):\n",
        "    return abs(a*x+b)"
      ],
      "execution_count": 22,
      "outputs": []
    },
    {
      "cell_type": "code",
      "metadata": {
        "id": "l2D_zC_RkBb1",
        "outputId": "40fb8aef-87d0-45ec-8002-d35f5a53fab1",
        "colab": {
          "base_uri": "https://localhost:8080/",
          "height": 697
        }
      },
      "source": [
        "draw_histogram(generate_function(test_func, 20, 40, 1000), 40, max_character_per_line=500)"
      ],
      "execution_count": 23,
      "outputs": [
        {
          "output_type": "stream",
          "text": [
            "[20.47803108183658,20.965614561908627] : #\n",
            "[20.965614561908627,21.453198041980674] : ####\n",
            "[21.453198041980674,21.940781522052717] : #\n",
            "[21.940781522052717,22.428365002124764] : ######\n",
            "[22.428365002124764,22.91594848219681] : ###\n",
            "[22.91594848219681,23.403531962268858] : #######\n",
            "[23.403531962268858,23.891115442340904] : ########\n",
            "[23.891115442340904,24.378698922412948] : #########\n",
            "[24.378698922412948,24.866282402484995] : #######\n",
            "[24.866282402484995,25.35386588255704] : #########\n",
            "[25.35386588255704,25.841449362629085] : ##########\n",
            "[25.841449362629085,26.32903284270113] : ################\n",
            "[26.32903284270113,26.81661632277318] : ############\n",
            "[26.81661632277318,27.304199802845226] : #############\n",
            "[27.304199802845226,27.791783282917272] : ################\n",
            "[27.791783282917272,28.27936676298932] : ########################\n",
            "[28.27936676298932,28.766950243061366] : #################\n",
            "[28.766950243061366,29.25453372313341] : ##################\n",
            "[29.25453372313341,29.742117203205456] : ###################\n",
            "[29.742117203205456,30.2297006832775] : ##################\n",
            "[30.2297006832775,30.717284163349547] : ############################\n",
            "[30.717284163349547,31.204867643421593] : ###############################\n",
            "[31.204867643421593,31.69245112349364] : #################################\n",
            "[31.69245112349364,32.18003460356569] : ################################\n",
            "[32.18003460356569,32.667618083637734] : ###################################\n",
            "[32.667618083637734,33.15520156370978] : ##################################\n",
            "[33.15520156370978,33.64278504378183] : ############################################\n",
            "[33.64278504378183,34.130368523853875] : ##################################\n",
            "[34.130368523853875,34.617952003925915] : #####################################\n",
            "[34.617952003925915,35.10553548399796] : #############################\n",
            "[35.10553548399796,35.59311896407001] : #############################################\n",
            "[35.59311896407001,36.080702444142055] : ##########################################\n",
            "[36.080702444142055,36.5682859242141] : ##############################################\n",
            "[36.5682859242141,37.05586940428615] : ##############################################\n",
            "[37.05586940428615,37.54345288435819] : ##########################################\n",
            "[37.54345288435819,38.031036364430236] : ####################################################\n",
            "[38.031036364430236,38.51861984450228] : #########################################\n",
            "[38.51861984450228,39.00620332457433] : #########################################\n",
            "[39.00620332457433,39.493786804646376] : #############################################\n",
            "[39.493786804646376,39.98137028471842] : #############################################\n"
          ],
          "name": "stdout"
        }
      ]
    },
    {
      "cell_type": "markdown",
      "metadata": {
        "id": "DOS5NVuilCnF"
      },
      "source": [
        "*Exercise 8:* Use your function to generate 1000 numbers that are normal distributed, using the `gaussian` function below. Confirm the mean and variance of the data is close to the mean and variance you specify when building the Gaussian. Histogram the data. "
      ]
    },
    {
      "cell_type": "code",
      "metadata": {
        "id": "BmD4ZtvhlCnF"
      },
      "source": [
        "import math\n",
        "\n",
        "def gaussian(mean, sigma):\n",
        "    def f(x):\n",
        "        return math.exp(-((x-mean)**2)/(2*sigma**2))/math.sqrt(math.pi*sigma)\n",
        "    return f\n",
        "\n",
        "# Example Instantiation\n",
        "g1=gaussian(0,1)\n",
        "g2=gaussian(10,3)"
      ],
      "execution_count": 24,
      "outputs": []
    },
    {
      "cell_type": "code",
      "metadata": {
        "id": "rjsSayvTlZlM",
        "outputId": "3ccbde82-3554-4a8a-ece0-ef1ea033d178",
        "colab": {
          "base_uri": "https://localhost:8080/",
          "height": 51
        }
      },
      "source": [
        "g1generation =  generate_function(g1, -100, 5, 1000)\n",
        "print(mean(g1generation), variance(g1generation))\n",
        "\n",
        "g2generation =  generate_function(g2, 0, 100, 1000)\n",
        "print(mean(g2generation), variance(g2generation))"
      ],
      "execution_count": 27,
      "outputs": [
        {
          "output_type": "stream",
          "text": [
            "-0.028934883244908064 1.0007615287247622\n",
            "9.987880130841543 9.198391328841277\n"
          ],
          "name": "stdout"
        }
      ]
    },
    {
      "cell_type": "markdown",
      "metadata": {
        "id": "L3spxxMilCnH"
      },
      "source": [
        "*Exercise 9:* Combine your `generate_function`, `where`, and `in_range` functions above to create an integrate function. Use your integrate function to show that approximately 68% of Normal distribution is within one variance."
      ]
    },
    {
      "cell_type": "code",
      "metadata": {
        "id": "CVYbWBHa4s_-"
      },
      "source": [
        "#not sure if wanted the previous or this\n",
        "def integrate(func, x_min, x_max, n_points=1000):\n",
        "    under = list()\n",
        "    over = list()\n",
        "    func_min = func(x_min)\n",
        "    func_max = func(x_max)\n",
        "    for i in range((x_max-x_min)+1):\n",
        "      y = func(x_min+i)\n",
        "      if y < func_min:\n",
        "        func_min = y\n",
        "      elif y > func_max:\n",
        "        func_max = y\n",
        "    def randominrange(x_min, x_max):\n",
        "      difference = x_max-x_min\n",
        "      n = random.random()\n",
        "      n = n*difference+x_min\n",
        "      return n\n",
        "    for i in range(n_points):\n",
        "      test_x = randominrange(x_min, x_max)\n",
        "      p = randominrange(func_min, func_max)\n",
        "      if p <=func(test_x):\n",
        "        under.append(test_x)\n",
        "      else:\n",
        "        over.append(test_x)\n",
        "    integral = (len(over)/(len(over)+len(under)))*(func_max-func_min)\n",
        "    return integral"
      ],
      "execution_count": 91,
      "outputs": []
    },
    {
      "cell_type": "code",
      "metadata": {
        "id": "zEh4TccHlCnK",
        "outputId": "b76cb805-ce76-4c9c-a989-0f548321b49c",
        "colab": {
          "base_uri": "https://localhost:8080/",
          "height": 51
        }
      },
      "source": [
        "print(integrate(test_func, 0, 3, 10000000))\n",
        "print(integrate(g1, -10, 10, 10000))"
      ],
      "execution_count": 142,
      "outputs": [
        {
          "output_type": "stream",
          "text": [
            "1.4996958\n",
            "0.4892652068526142\n"
          ],
          "name": "stdout"
        }
      ]
    }
  ]
}