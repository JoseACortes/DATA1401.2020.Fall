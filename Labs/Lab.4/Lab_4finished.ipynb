{
  "nbformat": 4,
  "nbformat_minor": 0,
  "metadata": {
    "kernelspec": {
      "display_name": "Python 3",
      "language": "python",
      "name": "python3"
    },
    "language_info": {
      "codemirror_mode": {
        "name": "ipython",
        "version": 3
      },
      "file_extension": ".py",
      "mimetype": "text/x-python",
      "name": "python",
      "nbconvert_exporter": "python",
      "pygments_lexer": "ipython3",
      "version": "3.8.0"
    },
    "colab": {
      "name": "Lab.4finished.ipynb",
      "provenance": [],
      "collapsed_sections": []
    }
  },
  "cells": [
    {
      "cell_type": "markdown",
      "metadata": {
        "id": "lpRXoSD9lCmQ"
      },
      "source": [
        "## Lab 4\n",
        "\n",
        "[![Open In Colab](https://colab.research.google.com/assets/colab-badge.svg)(https://colab.research.google.com/assets/colab-badge.svg)](https://colab.research.google.com/github/UTA-DataScience/DATA1401.2020.Fall/blob/master/Labs/Lab-4/Lab-4.ipynb)\n",
        "\n",
        "In this lab we will become familiar with distributions, histograms, and functional programming. \n",
        "\n",
        "\n",
        "### Uniform Distribution\n",
        "Lets start with generating some fake random data. You can get a random number between 0 and 1 using the python random module as follow:"
      ]
    },
    {
      "cell_type": "code",
      "metadata": {
        "id": "YeCxbSx9lCmR",
        "outputId": "9cfa9188-59db-4636-8127-5a6b56f2faa5",
        "colab": {
          "base_uri": "https://localhost:8080/",
          "height": 34
        }
      },
      "source": [
        "import random\n",
        "x=random.random()\n",
        "print(\"The Value of x is\", x)"
      ],
      "execution_count": 23,
      "outputs": [
        {
          "output_type": "stream",
          "text": [
            "The Value of x is 0.8351871822489199\n"
          ],
          "name": "stdout"
        }
      ]
    },
    {
      "cell_type": "markdown",
      "metadata": {
        "id": "Luv-mbkllCmW"
      },
      "source": [
        "Everytime you call random, you will get a new number.\n",
        "\n",
        "*Exercise 1:* Using random, write a function `generate_uniform(N, mymin, mymax)`, that returns a python list containing N random numbers between specified minimum and maximum value. Note that you may want to quickly work out on paper how to turn numbers between 0 and 1 to between other values. "
      ]
    },
    {
      "cell_type": "code",
      "metadata": {
        "id": "uMV5U0Y7lCmW"
      },
      "source": [
        "# Skeleton\n",
        "def generate_uniform(N,x_min,x_max):\n",
        "    out = []\n",
        "    window = x_max-x_min\n",
        "    for i in range(N):\n",
        "      x = (random.random()*window)+x_min\n",
        "      out.append(x)    \n",
        "    ### END SOLUTION\n",
        "    return out"
      ],
      "execution_count": 24,
      "outputs": []
    },
    {
      "cell_type": "code",
      "metadata": {
        "id": "BiM_P6B9lCmZ",
        "outputId": "7c78b58f-08ed-4fc7-8d04-70e80efe8ce6",
        "colab": {
          "base_uri": "https://localhost:8080/",
          "height": 102
        }
      },
      "source": [
        "# Test your solution here\n",
        "data=generate_uniform(80,-10,10)\n",
        "print (\"Data Type:\", type(data))\n",
        "print (\"Data Length:\", len(data))\n",
        "if len(data)>0: \n",
        "    print (\"Type of Data Contents:\", type(data[0]))\n",
        "    print (\"Data Minimum:\", min(data))\n",
        "    print (\"Data Maximum:\", max(data))"
      ],
      "execution_count": 166,
      "outputs": [
        {
          "output_type": "stream",
          "text": [
            "Data Type: <class 'list'>\n",
            "Data Length: 80\n",
            "Type of Data Contents: <class 'float'>\n",
            "Data Minimum: -9.840673927513649\n",
            "Data Maximum: 9.82247666033227\n"
          ],
          "name": "stdout"
        }
      ]
    },
    {
      "cell_type": "markdown",
      "metadata": {
        "id": "4JRlsONHlCmc"
      },
      "source": [
        "*Exercise 2a:* \n",
        "Write a function that computes the mean of values in a list."
      ]
    },
    {
      "cell_type": "code",
      "metadata": {
        "id": "x-wivwe7lCmd"
      },
      "source": [
        "# Skeleton\n",
        "def mean(Data):\n",
        "    m=0.\n",
        "    m = sum(Data)/len(Data)\n",
        "    return m"
      ],
      "execution_count": 167,
      "outputs": []
    },
    {
      "cell_type": "code",
      "metadata": {
        "id": "9wfi2U6flCmf",
        "outputId": "56b9eb3b-0aea-4a9a-a923-ebbdec0cc7aa",
        "colab": {
          "base_uri": "https://localhost:8080/",
          "height": 34
        }
      },
      "source": [
        "# Test your solution here\n",
        "print (\"Mean of Data:\", mean(data))"
      ],
      "execution_count": 168,
      "outputs": [
        {
          "output_type": "stream",
          "text": [
            "Mean of Data: 0.31367669418023136\n"
          ],
          "name": "stdout"
        }
      ]
    },
    {
      "cell_type": "markdown",
      "metadata": {
        "id": "wj1zHoJRlCmh"
      },
      "source": [
        "*Exercise 2b:* \n",
        "Write a function that computes the variance of values in a list."
      ]
    },
    {
      "cell_type": "code",
      "metadata": {
        "id": "sXDFN7VylCmh"
      },
      "source": [
        "# Skeleton\n",
        "def variance(Data):\n",
        "    m=0.\n",
        "    u = mean(Data)\n",
        "    n = list()\n",
        "    for d in Data:\n",
        "      n.append((d-u)*(d-u))\n",
        "    m = sum(n)/(len(Data)-1)\n",
        "    return m"
      ],
      "execution_count": 169,
      "outputs": []
    },
    {
      "cell_type": "code",
      "metadata": {
        "id": "hD0UbgInlCmk",
        "outputId": "e6dcf846-e6e7-4dbf-ea7b-ab985cced855",
        "colab": {
          "base_uri": "https://localhost:8080/",
          "height": 34
        }
      },
      "source": [
        "# Test your solution here\n",
        "print (\"Variance of Data:\", variance(data))"
      ],
      "execution_count": 170,
      "outputs": [
        {
          "output_type": "stream",
          "text": [
            "Variance of Data: 35.20741229500957\n"
          ],
          "name": "stdout"
        }
      ]
    },
    {
      "cell_type": "markdown",
      "metadata": {
        "id": "I9zQJ2ihlCml"
      },
      "source": [
        "## Histogramming"
      ]
    },
    {
      "cell_type": "markdown",
      "metadata": {
        "id": "_fU4MG9PlCmm"
      },
      "source": [
        "*Exercise 3:* Write a function that bins the data so that you can create a histogram. An example of how to implement histogramming is the following logic:\n",
        "\n",
        "* User inputs a list of values `x` and optionally `n_bins` which defaults to 10.\n",
        "* If not supplied, find the minimum and maximum (`x_min`,`x_max`) of the values in x.\n",
        "* Determine the bin size (`bin_size`) by dividing the range of the function by the number of bins.\n",
        "* Create an empty list of zeros of size `n_bins`, call it `hist`.\n",
        "* Loop over the values in `x`\n",
        "    * Loop over the values in `hist` with index `i`:\n",
        "        * If x is between `x_min+i*bin_size` and `x_min+(i+1)*bin_size`, increment `hist[i].` \n",
        "        * For efficiency, try to use continue to goto the next bin and data point.\n",
        "* Return `hist` and the list corresponding of the bin edges (i.e. of `x_min+i*bin_size`).    "
      ]
    },
    {
      "cell_type": "code",
      "metadata": {
        "id": "29pxntMwlCmn"
      },
      "source": [
        "# Solution\n",
        "def histogram(x,n_bins=10,x_min=None,x_max=None):\n",
        "  #min/max\n",
        "  x_min = min(x)\n",
        "  x_max = max(x)\n",
        "  bin_size = (x_max-x_min)/n_bins\n",
        "  #empty bin\n",
        "  hist = []\n",
        "  for n in range(n_bins):\n",
        "    hist.append(0)\n",
        "  #filling bins\n",
        "  for i in range(len(hist)):\n",
        "    l_limit = x_min+i*bin_size\n",
        "    u_limit = l_limit+bin_size\n",
        "    for t in x:\n",
        "      if t > l_limit and t < u_limit:\n",
        "        hist[i] = hist[i]+1\n",
        "      elif t == l_limit:\n",
        "        hist[i] = hist[i]+1\n",
        "  if len(data) != sum(hist):\n",
        "    hist[-1] = hist[-1]+1\n",
        "  bin_edges = []\n",
        "  for i in range(len(hist)):\n",
        "    n = x_min+i*bin_size\n",
        "    bin_edges.append(n)\n",
        "  bin_edges.append(x_max)\n",
        "  return hist,bin_edges"
      ],
      "execution_count": 171,
      "outputs": []
    },
    {
      "cell_type": "code",
      "metadata": {
        "id": "-X1oh7TzlCmp",
        "outputId": "d3bda59c-17b3-4ff5-eeb4-0f30de706807",
        "colab": {
          "base_uri": "https://localhost:8080/",
          "height": 105
        }
      },
      "source": [
        "# Test your solution here\n",
        "h,b=histogram(data,20)\n",
        "print(len(data))\n",
        "print(h)\n",
        "print(sum(h))\n",
        "print(b)"
      ],
      "execution_count": 172,
      "outputs": [
        {
          "output_type": "stream",
          "text": [
            "80\n",
            "[4, 4, 5, 3, 3, 7, 1, 4, 5, 2, 2, 6, 3, 4, 1, 8, 5, 3, 4, 6]\n",
            "80\n",
            "[-9.840673927513649, -8.857516398121353, -7.874358868729057, -6.891201339336761, -5.9080438099444645, -4.924886280552169, -3.9417287511598733, -2.958571221767577, -1.9754136923752812, -0.9922561629829847, -0.009098633590689076, 0.9740588958016065, 1.9572164251939022, 2.9403739545861978, 3.923531483978495, 4.906689013370791, 5.889846542763086, 6.873004072155382, 7.856161601547679, 8.839319130939973, 9.82247666033227]\n"
          ],
          "name": "stdout"
        }
      ]
    },
    {
      "cell_type": "markdown",
      "metadata": {
        "id": "afyhCuehlCmq"
      },
      "source": [
        "*Exercise 4:* Write a function that uses the histogram function in the previous exercise to create a text-based \"graph\". For example the output could look like the following:\n",
        "```\n",
        "[  0,  1] : ######\n",
        "[  1,  2] : #####\n",
        "[  2,  3] : ######\n",
        "[  3,  4] : ####\n",
        "[  4,  5] : ####\n",
        "[  5,  6] : ######\n",
        "[  6,  7] : #####\n",
        "[  7,  8] : ######\n",
        "[  8,  9] : ####\n",
        "[  9, 10] : #####\n",
        "```\n",
        "\n",
        "Where each line corresponds to a bin and the number of `#`'s are proportional to the value of the data in the bin. "
      ]
    },
    {
      "cell_type": "code",
      "metadata": {
        "id": "hiu7WEHalCmr"
      },
      "source": [
        "# Solution\n",
        "def draw_histogram(x,n_bins,x_min=None,x_max=None,character=\"#\",max_character_per_line=20):\n",
        "    ### BEGIN SOLUTION\n",
        "    aa, ab = histogram(x,n_bins,x_min,x_max)\n",
        "    for i in range(n_bins):\n",
        "      if aa[i] > max_character_per_line:\n",
        "        aa[i] = max_character_per_line\n",
        "      n = aa[i]\n",
        "      c = character*n\n",
        "      t = '['+str(ab[i])+','+str(ab[i+1])+'] : '+c\n",
        "      print(t)\n",
        "    ### END SOLUTION"
      ],
      "execution_count": 173,
      "outputs": []
    },
    {
      "cell_type": "code",
      "metadata": {
        "id": "d2XJqLanlCms",
        "outputId": "972f8331-99fc-4408-b37c-c71d22436341",
        "colab": {
          "base_uri": "https://localhost:8080/",
          "height": 357
        }
      },
      "source": [
        "# Test your solution here\n",
        "draw_histogram(data,20)"
      ],
      "execution_count": 174,
      "outputs": [
        {
          "output_type": "stream",
          "text": [
            "[-9.840673927513649,-8.857516398121353] : ####\n",
            "[-8.857516398121353,-7.874358868729057] : ####\n",
            "[-7.874358868729057,-6.891201339336761] : #####\n",
            "[-6.891201339336761,-5.9080438099444645] : ###\n",
            "[-5.9080438099444645,-4.924886280552169] : ###\n",
            "[-4.924886280552169,-3.9417287511598733] : #######\n",
            "[-3.9417287511598733,-2.958571221767577] : #\n",
            "[-2.958571221767577,-1.9754136923752812] : ####\n",
            "[-1.9754136923752812,-0.9922561629829847] : #####\n",
            "[-0.9922561629829847,-0.009098633590689076] : ##\n",
            "[-0.009098633590689076,0.9740588958016065] : ##\n",
            "[0.9740588958016065,1.9572164251939022] : ######\n",
            "[1.9572164251939022,2.9403739545861978] : ###\n",
            "[2.9403739545861978,3.923531483978495] : ####\n",
            "[3.923531483978495,4.906689013370791] : #\n",
            "[4.906689013370791,5.889846542763086] : ########\n",
            "[5.889846542763086,6.873004072155382] : #####\n",
            "[6.873004072155382,7.856161601547679] : ###\n",
            "[7.856161601547679,8.839319130939973] : ####\n",
            "[8.839319130939973,9.82247666033227] : ######\n"
          ],
          "name": "stdout"
        }
      ]
    },
    {
      "cell_type": "markdown",
      "metadata": {
        "id": "09NHV998lCmw"
      },
      "source": [
        "## Functional Programming\n",
        "\n",
        "*Exercise 5:* Write a function the applies a booling function (that returns true/false) to every element in data, and return a list of indices of elements where the result was true. Use this function to find the indices of entries greater than 0.5. "
      ]
    },
    {
      "cell_type": "code",
      "metadata": {
        "id": "j6sQ3bSglCmx"
      },
      "source": [
        "def where(mylist,myfunc):\n",
        "    out= []\n",
        "    ### BEGIN SOLUTION\n",
        "    for i in range(len(mylist)):\n",
        "      n = mylist[i]\n",
        "      tempbool = myfunc(n)\n",
        "      if tempbool == True:\n",
        "        out.append(i)\n",
        "    ### END SOLUTION\n",
        "    \n",
        "    return out"
      ],
      "execution_count": 99,
      "outputs": []
    },
    {
      "cell_type": "code",
      "metadata": {
        "id": "D9Fya_m_N5pD"
      },
      "source": [
        "def pointfivefuction(number):\n",
        "  number = float(number)\n",
        "  if number > .5:\n",
        "    return True\n",
        "  else:\n",
        "    return False"
      ],
      "execution_count": 101,
      "outputs": []
    },
    {
      "cell_type": "code",
      "metadata": {
        "id": "WDoefURflCmz",
        "outputId": "21811555-2581-4ce6-bab4-5895e38b7f9e",
        "colab": {
          "base_uri": "https://localhost:8080/",
          "height": 34
        }
      },
      "source": [
        "test = [1, .2, 15, .000001, .4999999, .5, .5000000001]\n",
        "print(where(test, pointfivefuction))"
      ],
      "execution_count": 110,
      "outputs": [
        {
          "output_type": "stream",
          "text": [
            "[0, 2, 6]\n"
          ],
          "name": "stdout"
        }
      ]
    },
    {
      "cell_type": "markdown",
      "metadata": {
        "id": "0eIxvoJ4lCm3"
      },
      "source": [
        "*Exercise 6:* The inrange(mymin,mymax) function below returns a function that tests if it's input is between the specified values. Write corresponding functions that test:\n",
        "* Even\n",
        "* Odd\n",
        "* Greater than\n",
        "* Less than\n",
        "* Equal\n",
        "* Divisible by"
      ]
    },
    {
      "cell_type": "code",
      "metadata": {
        "id": "lzm6jpa0lCm4",
        "outputId": "295fedd9-e228-4387-f0a0-d1c4e61cba3c",
        "colab": {
          "base_uri": "https://localhost:8080/",
          "height": 85
        }
      },
      "source": [
        "def in_range(mymin,mymax):\n",
        "    def testrange(x):\n",
        "        return x<mymax and x>=mymin\n",
        "    return testrange\n",
        "\n",
        "# Examples:\n",
        "F1=in_range(0,10)\n",
        "F2=in_range(10,20)\n",
        "\n",
        "# Test of in_range\n",
        "print (F1(0), F1(1), F1(10), F1(15), F1(20))\n",
        "print (F2(0), F2(1), F2(10), F2(15), F2(20))\n",
        "\n",
        "print (\"Number of Entries passing F1:\", len(where(data,F1)))\n",
        "print (\"Number of Entries passing F2:\", len(where(data,F2)))"
      ],
      "execution_count": 111,
      "outputs": [
        {
          "output_type": "stream",
          "text": [
            "True True False False False\n",
            "False False True True False\n",
            "Number of Entries passing F1: 8\n",
            "Number of Entries passing F2: 0\n"
          ],
          "name": "stdout"
        }
      ]
    },
    {
      "cell_type": "code",
      "metadata": {
        "id": "h4A_Bs4kQ_bE",
        "outputId": "74791a43-bf6c-4f68-8f21-48ed9c2510fc",
        "colab": {
          "base_uri": "https://localhost:8080/",
          "height": 34
        }
      },
      "source": [
        "9%3"
      ],
      "execution_count": 149,
      "outputs": [
        {
          "output_type": "execute_result",
          "data": {
            "text/plain": [
              "0"
            ]
          },
          "metadata": {
            "tags": []
          },
          "execution_count": 149
        }
      ]
    },
    {
      "cell_type": "code",
      "metadata": {
        "id": "2ti_re07lCm7"
      },
      "source": [
        "def even(number):\n",
        "  if int(str(abs(number))[-1])%2 == 0:\n",
        "    return True\n",
        "  else:\n",
        "    return False\n",
        "\n",
        "def odd(number):\n",
        "  if int(str(abs(number))[-1])%2 == 1:\n",
        "    return True\n",
        "  else:\n",
        "    return False\n",
        "\n",
        "def greaterthan(number, comparison):\n",
        "  if number > comparison:\n",
        "    return True\n",
        "  else:\n",
        "    return False\n",
        "\n",
        "def lessthan(number, comparison):\n",
        "  if number < comparison:\n",
        "    return True\n",
        "  else:\n",
        "    return False\n",
        "\n",
        "def equalto(number, comparison):\n",
        "  if number == comparison:\n",
        "    return True\n",
        "  else:\n",
        "    return False\n",
        "\n",
        "def divisibleby(number, comparison):\n",
        "  if abs(number)%abs(comparison) == 0:\n",
        "    return True\n",
        "  else:\n",
        "    return False"
      ],
      "execution_count": 163,
      "outputs": []
    },
    {
      "cell_type": "code",
      "metadata": {
        "id": "0ETKqpiVlCm9",
        "outputId": "41dd5e6b-2514-45ef-f03e-43ba15c20881",
        "colab": {
          "base_uri": "https://localhost:8080/",
          "height": 323
        }
      },
      "source": [
        "print(even(14.005))\n",
        "print(even(2103148))\n",
        "print(even(-64.08))\n",
        "\n",
        "print(odd(14.005))\n",
        "print(odd(2103148))\n",
        "print(odd(-64.07))\n",
        "\n",
        "print(greaterthan(5, 0))\n",
        "print(greaterthan(0, 5))\n",
        "print(greaterthan(0, 0))\n",
        "\n",
        "print(lessthan(5, 0))\n",
        "print(lessthan(0, 5))\n",
        "print(lessthan(0, 0))\n",
        "\n",
        "print(equalto(5, 0))\n",
        "print(equalto(0, 5))\n",
        "print(equalto(0, 0))\n",
        "\n",
        "print(divisibleby(10, .5))\n",
        "print(divisibleby(9, -3))\n",
        "print(divisibleby(8, 3))"
      ],
      "execution_count": 164,
      "outputs": [
        {
          "output_type": "stream",
          "text": [
            "False\n",
            "True\n",
            "True\n",
            "True\n",
            "False\n",
            "True\n",
            "True\n",
            "False\n",
            "False\n",
            "False\n",
            "True\n",
            "False\n",
            "False\n",
            "False\n",
            "True\n",
            "True\n",
            "True\n",
            "False\n"
          ],
          "name": "stdout"
        }
      ]
    },
    {
      "cell_type": "markdown",
      "metadata": {
        "id": "5Rhpnpa8lCm_"
      },
      "source": [
        "*Exercise 7:* Repeat the previous exercise using `lambda` and the built-in python functions sum and map instead of your solution above. "
      ]
    },
    {
      "cell_type": "code",
      "metadata": {
        "id": "O9oLZ6GllCm_"
      },
      "source": [
        "### BEGIN SOLUTION\n",
        "even = lambda number: int(str(abs(number))[-1])%2 == 0\n",
        "odd = lambda number: int(str(abs(number))[-1])%2 == 1\n",
        "greaterthan = lambda number, comparison : number > comparison\n",
        "lessthan = lambda number, comparison : number < comparison\n",
        "equalto = lambda number, comparison : number == comparison\n",
        "divisibleby = lambda number, comparison : abs(number)%abs(comparison) == 0\n",
        "### END SOLUTION"
      ],
      "execution_count": 165,
      "outputs": []
    },
    {
      "cell_type": "markdown",
      "metadata": {
        "id": "P5yPMYWvlCnB"
      },
      "source": [
        "## Monte Carlo\n",
        "\n",
        "*Exercise 7:* Write a \"generator\" function called `generate_function(func,x_min,x_max,N)`, that instead of generating a flat distribution, generates a distribution with functional form coded in `func`. Note that `func` will always be > 0.  \n",
        "\n",
        "Use the test function below and your histogramming functions above to demonstrate that your generator is working properly.\n",
        "\n",
        "Hint: A simple, but slow, solution is to a draw random number test_x within the specified range and another number p between the min and max of the function (which you will have to determine). If p<=function(test_x), then place test_x on the output. If not, repeat the process, drawing two new numbers. Repeat until you have the specified number of generated numbers, N. For this problem, it's OK to determine the min and max by numerically sampling the function.  "
      ]
    },
    {
      "cell_type": "code",
      "metadata": {
        "id": "Vx9A4LnWlCnB"
      },
      "source": [
        "def generate_function(func,x_min,x_max,N=1000):\n",
        "    out = list()\n",
        "    func_min = func(x_min)\n",
        "    func_max = func(x_max)\n",
        "    for i in range((x_max-x_min)+1):\n",
        "      y = func(x_min+i)\n",
        "      if y < func_min:\n",
        "        func_min = y\n",
        "      elif y > func_max:\n",
        "        func_max = y\n",
        "    def randominrange(x_min, x_max):\n",
        "      difference = x_max-x_min\n",
        "      n = random.random()\n",
        "      n = n*difference+x_min\n",
        "      return n\n",
        "    while len(out) < N:\n",
        "      test_x = randominrange(x_min, x_max)\n",
        "      p = randominrange(func_min, func_max)\n",
        "      if p <=func(test_x):\n",
        "        out.append(test_x)\n",
        "    return out"
      ],
      "execution_count": 199,
      "outputs": []
    },
    {
      "cell_type": "code",
      "metadata": {
        "id": "kDhXctjRlCnD"
      },
      "source": [
        "# A test function\n",
        "def test_func(x,a=1,b=1):\n",
        "    return abs(a*x+b)"
      ],
      "execution_count": 200,
      "outputs": []
    },
    {
      "cell_type": "code",
      "metadata": {
        "id": "l2D_zC_RkBb1",
        "outputId": "8f0a7dbe-3f82-444b-e125-edada1d9006e",
        "colab": {
          "base_uri": "https://localhost:8080/",
          "height": 697
        }
      },
      "source": [
        "draw_histogram(generate_function(test_func, 20, 40, 1000), 40, max_character_per_line=500)"
      ],
      "execution_count": 211,
      "outputs": [
        {
          "output_type": "stream",
          "text": [
            "[20.22584749240623,20.719757687846347] : ##\n",
            "[20.719757687846347,21.21366788328646] : ####\n",
            "[21.21366788328646,21.70757807872657] : ###\n",
            "[21.70757807872657,22.201488274166685] : #######\n",
            "[22.201488274166685,22.6953984696068] : ########\n",
            "[22.6953984696068,23.189308665046912] : ######\n",
            "[23.189308665046912,23.683218860487024] : ##########\n",
            "[23.683218860487024,24.17712905592714] : ######\n",
            "[24.17712905592714,24.671039251367255] : ######################\n",
            "[24.671039251367255,25.164949446807366] : ##########\n",
            "[25.164949446807366,25.658859642247478] : #############\n",
            "[25.658859642247478,26.152769837687593] : ##########################\n",
            "[26.152769837687593,26.64668003312771] : ###########\n",
            "[26.64668003312771,27.14059022856782] : ################\n",
            "[27.14059022856782,27.634500424007932] : ###############\n",
            "[27.634500424007932,28.128410619448047] : ####################\n",
            "[28.128410619448047,28.622320814888162] : #############\n",
            "[28.622320814888162,29.116231010328274] : #######################\n",
            "[29.116231010328274,29.610141205768386] : ###############\n",
            "[29.610141205768386,30.1040514012085] : #######################\n",
            "[30.1040514012085,30.597961596648616] : ####################################\n",
            "[30.597961596648616,31.091871792088728] : ########################################\n",
            "[31.091871792088728,31.58578198752884] : ###################\n",
            "[31.58578198752884,32.079692182968955] : ####################\n",
            "[32.079692182968955,32.57360237840907] : #################################\n",
            "[32.57360237840907,33.067512573849186] : #############################\n",
            "[33.067512573849186,33.561422769289294] : ###########################\n",
            "[33.561422769289294,34.05533296472941] : #######################################\n",
            "[34.05533296472941,34.549243160169524] : #############################\n",
            "[34.549243160169524,35.04315335560963] : ##############################################\n",
            "[35.04315335560963,35.53706355104975] : #################################\n",
            "[35.53706355104975,36.03097374648986] : ########################################\n",
            "[36.03097374648986,36.52488394192998] : #######################################################\n",
            "[36.52488394192998,37.018794137370094] : ##################################\n",
            "[37.018794137370094,37.5127043328102] : #############################################\n",
            "[37.5127043328102,38.00661452825032] : #########################################\n",
            "[38.00661452825032,38.50052472369043] : ####################################\n",
            "[38.50052472369043,38.99443491913054] : #######################################\n",
            "[38.99443491913054,39.488345114570656] : #########################################################\n",
            "[39.488345114570656,39.98225531001077] : #################################################\n"
          ],
          "name": "stdout"
        }
      ]
    },
    {
      "cell_type": "markdown",
      "metadata": {
        "id": "DOS5NVuilCnF"
      },
      "source": [
        "*Exercise 8:* Use your function to generate 1000 numbers that are normal distributed, using the `gaussian` function below. Confirm the mean and variance of the data is close to the mean and variance you specify when building the Gaussian. Histogram the data. "
      ]
    },
    {
      "cell_type": "code",
      "metadata": {
        "id": "BmD4ZtvhlCnF"
      },
      "source": [
        "import math\n",
        "\n",
        "def gaussian(mean, sigma):\n",
        "    def f(x):\n",
        "        return math.exp(-((x-mean)**2)/(2*sigma**2))/math.sqrt(math.pi*sigma)\n",
        "    return f\n",
        "\n",
        "# Example Instantiation\n",
        "g1=gaussian(0,1)\n",
        "g2=gaussian(10,3)"
      ],
      "execution_count": 212,
      "outputs": []
    },
    {
      "cell_type": "code",
      "metadata": {
        "id": "rjsSayvTlZlM",
        "outputId": "78eb43d3-4366-4456-fbe9-8d5bc130307c",
        "colab": {
          "base_uri": "https://localhost:8080/",
          "height": 51
        }
      },
      "source": [
        "g1generation =  generate_function(g1, -100, 5, 1000)\n",
        "print(mean(g1generation), variance(g1generation))\n",
        "\n",
        "g2generation =  generate_function(g2, 0, 100, 1000)\n",
        "print(mean(g2generation), variance(g2generation))"
      ],
      "execution_count": 229,
      "outputs": [
        {
          "output_type": "stream",
          "text": [
            "0.09009192507248559 0.9719489204118912\n",
            "9.94091405715094 8.357729759372726\n"
          ],
          "name": "stdout"
        }
      ]
    },
    {
      "cell_type": "markdown",
      "metadata": {
        "id": "L3spxxMilCnH"
      },
      "source": [
        "*Exercise 9:* Combine your `generate_function`, `where`, and `in_range` functions above to create an integrate function. Use your integrate function to show that approximately 68% of Normal distribution is within one variance."
      ]
    },
    {
      "cell_type": "code",
      "metadata": {
        "id": "QEHjKRnUlCnH"
      },
      "source": [
        "def integrate(func, x_min, x_max, n_points=1000):\n",
        "    g = generate_function(func, x_min, x_max, n_points)\n",
        "    integral = sum(histogram(g,(x_max-x_min),x_min,x_max)[0])\n",
        "    return integral"
      ],
      "execution_count": null,
      "outputs": []
    },
    {
      "cell_type": "code",
      "metadata": {
        "id": "zEh4TccHlCnK"
      },
      "source": [
        ""
      ],
      "execution_count": null,
      "outputs": []
    }
  ]
}