{
  "nbformat": 4,
  "nbformat_minor": 0,
  "metadata": {
    "kernelspec": {
      "display_name": "Python 3",
      "language": "python",
      "name": "python3"
    },
    "language_info": {
      "codemirror_mode": {
        "name": "ipython",
        "version": 3
      },
      "file_extension": ".py",
      "mimetype": "text/x-python",
      "name": "python",
      "nbconvert_exporter": "python",
      "pygments_lexer": "ipython3",
      "version": "3.8.0"
    },
    "colab": {
      "name": "Copy of Lab.3.ipynb",
      "provenance": [],
      "collapsed_sections": []
    }
  },
  "cells": [
    {
      "cell_type": "markdown",
      "metadata": {
        "id": "nFvFcw60lNCI"
      },
      "source": [
        "# Lab 3- Tic Tac Toe\n",
        "\n",
        "[![Open In Colab](https://colab.research.google.com/assets/colab-badge.svg)](https://colab.research.google.com/github/UTA-DataScience/DATA1401.2020.Fall/blob/master/Labs/Lab.3/Lab.3.ipynb)\n",
        "\n",
        "In this lab your will build a n x n Tic Tac Toe game. As you do the exercises, make sure your solutions work for any size Tic Tac Toe game. "
      ]
    },
    {
      "cell_type": "markdown",
      "metadata": {
        "id": "AqnHIvMJlNCJ"
      },
      "source": [
        "*Exercise 1:* Write a function that creates an n by n matrix (of list of lists) which will represent the state of a Tie Tac Toe game. Let 0, 1, and 2 represent empty, \"X\", or \"O\".\n"
      ]
    },
    {
      "cell_type": "code",
      "metadata": {
        "id": "9qjwcuJFlNCK"
      },
      "source": [
        "def emptybrd(n):\n",
        "  board=list()\n",
        "  for r in range(n):\n",
        "      row=list()\n",
        "      for c in range(n):\n",
        "          row.append(0)\n",
        "          \n",
        "      board.append(row)\n",
        "\n",
        "  return board"
      ],
      "execution_count": 1,
      "outputs": []
    },
    {
      "cell_type": "code",
      "metadata": {
        "id": "gtchKrrYlNCN",
        "outputId": "d5ae8a2c-2d64-4107-ca2b-3b23262bd35f",
        "colab": {
          "base_uri": "https://localhost:8080/",
          "height": 102
        }
      },
      "source": [
        "tboard = emptybrd(5)\n",
        "tboard"
      ],
      "execution_count": null,
      "outputs": [
        {
          "output_type": "execute_result",
          "data": {
            "text/plain": [
              "[[0, 0, 0, 0, 0],\n",
              " [0, 0, 0, 0, 0],\n",
              " [0, 0, 0, 0, 0],\n",
              " [0, 0, 0, 0, 0],\n",
              " [0, 0, 0, 0, 0]]"
            ]
          },
          "metadata": {
            "tags": []
          },
          "execution_count": 38
        }
      ]
    },
    {
      "cell_type": "markdown",
      "metadata": {
        "id": "Q3W6GMKrlNCP"
      },
      "source": [
        "*Exercise 2:* Write a function that takes a `n` by `n` matrix representing a tic-tac-toe game, and returns -1, 0, 1, or 2 indicating the game is incomplete, the game is a draw, player 1 has won, or player 2 has one, respectively. Here are some example inputs you can use to test your code:"
      ]
    },
    {
      "cell_type": "code",
      "metadata": {
        "id": "g7490pPOlNCP"
      },
      "source": [
        "winner_is_2 = [[2, 2, 0],\n",
        "\t[2, 1, 0],\n",
        "\t[2, 1, 1]]\n",
        "\n",
        "winner_is_1 = [[1, 2, 0],\n",
        "\t[2, 1, 0],\n",
        "\t[2, 1, 1]]\n",
        "\n",
        "winner_is_also_1 = [[0, 1, 0],\n",
        "\t[2, 1, 0],\n",
        "\t[2, 1, 1]]\n",
        "\n",
        "no_winner = [[1, 2, 0],\n",
        "\t[2, 1, 0],\n",
        "\t[2, 1, 2]]\n",
        "\n",
        "also_no_winner = [[1, 2, 0],\n",
        "\t[2, 1, 0],\n",
        "\t[2, 1, 0]]"
      ],
      "execution_count": 2,
      "outputs": []
    },
    {
      "cell_type": "code",
      "metadata": {
        "id": "tgetEhz4lNCS"
      },
      "source": [
        "def checkwin(brd):\n",
        "  wincondition = False\n",
        "  winner = -1\n",
        "  nlen = len(brd)\n",
        "  p1win = [1]*nlen\n",
        "  p2win = [2]*nlen\n",
        "  #vertical\n",
        "  for i in range(nlen):\n",
        "    if winner != -1:\n",
        "      break\n",
        "    tlist = []\n",
        "    for l in range(nlen):\n",
        "      tlist.append(brd[l][i])\n",
        "    if tlist == p1win:\n",
        "      winner = 1\n",
        "      break\n",
        "    elif tlist == p2win:\n",
        "      winner = 2\n",
        "      break\n",
        "  #horzontal\n",
        "  for h in brd:\n",
        "    if winner != -1:\n",
        "      break\n",
        "    if h == p1win:\n",
        "      winner = 1\n",
        "      break\n",
        "    elif h == p2win:\n",
        "      winner = 2\n",
        "      break\n",
        "  #cross\n",
        "  if winner == -1:\n",
        "    ctlist1 = []\n",
        "    for c in range(nlen):\n",
        "      ctlist1.append(brd[c][c])\n",
        "    if ctlist1 == p1win:\n",
        "      winner = 1\n",
        "    elif ctlist1 == p2win:\n",
        "      winner = 2\n",
        "    if winner == -1:\n",
        "      ctlist2 = []\n",
        "      for c in range(nlen):\n",
        "        ctlist2.append(brd[c][-1-c])\n",
        "      if ctlist2 == p1win:\n",
        "        winner = 1\n",
        "      elif ctlist2 == p2win:\n",
        "        winner = 2\n",
        "  if winner == -1 and 0 in brd == false:\n",
        "    winner = 0\n",
        "  return winner"
      ],
      "execution_count": 4,
      "outputs": []
    },
    {
      "cell_type": "code",
      "metadata": {
        "id": "kaGgfy7ElNCU",
        "outputId": "9e75093c-c1fe-4203-c0ab-83204f83cdc7",
        "colab": {
          "base_uri": "https://localhost:8080/",
          "height": 102
        }
      },
      "source": [
        "print(checkwin(winner_is_2))\n",
        "print(checkwin(winner_is_1))\n",
        "print(checkwin(winner_is_also_1))\n",
        "print(checkwin(no_winner))\n",
        "print(checkwin(also_no_winner))"
      ],
      "execution_count": null,
      "outputs": [
        {
          "output_type": "stream",
          "text": [
            "2\n",
            "1\n",
            "1\n",
            "-1\n",
            "-1\n"
          ],
          "name": "stdout"
        }
      ]
    },
    {
      "cell_type": "markdown",
      "metadata": {
        "id": "LHeycydAlNCW"
      },
      "source": [
        "*Exercise 3:* Write a function that takes 2 integers `n` and `m` as input and draws a `n` by `m` game board. For example the following is a 3x3 board:\n",
        "```\n",
        "   --- --- --- \n",
        "  |   |   |   | \n",
        "   --- --- ---  \n",
        "  |   |   |   | \n",
        "   --- --- ---  \n",
        "  |   |   |   | \n",
        "   --- --- --- \n",
        "   ```"
      ]
    },
    {
      "cell_type": "code",
      "metadata": {
        "id": "_k2yfISTlNCW"
      },
      "source": [
        "def drawboard1(n):\n",
        "  drawnbrd = ''\n",
        "  for i in range(n):\n",
        "    drawnbrd = drawnbrd+' ---'*n+' \\n'\n",
        "    for s in range(n):\n",
        "      vals = ' '\n",
        "      drawnbrd = drawnbrd+'| '+vals+' '\n",
        "    drawnbrd = drawnbrd+'|\\n'\n",
        "  drawnbrd = drawnbrd+' ---'*n+' \\n'\n",
        "  print(drawnbrd)\n"
      ],
      "execution_count": 5,
      "outputs": []
    },
    {
      "cell_type": "code",
      "metadata": {
        "id": "n7j59NcMlNCZ",
        "outputId": "8a134308-87ea-4d80-b9a4-7bdc2e31f848",
        "colab": {
          "base_uri": "https://localhost:8080/",
          "height": 221
        }
      },
      "source": [
        "drawboard1(5)"
      ],
      "execution_count": null,
      "outputs": [
        {
          "output_type": "stream",
          "text": [
            " --- --- --- --- --- \n",
            "|   |   |   |   |   |\n",
            " --- --- --- --- --- \n",
            "|   |   |   |   |   |\n",
            " --- --- --- --- --- \n",
            "|   |   |   |   |   |\n",
            " --- --- --- --- --- \n",
            "|   |   |   |   |   |\n",
            " --- --- --- --- --- \n",
            "|   |   |   |   |   |\n",
            " --- --- --- --- --- \n",
            "\n"
          ],
          "name": "stdout"
        }
      ]
    },
    {
      "cell_type": "markdown",
      "metadata": {
        "id": "7S_CydfwlNCb"
      },
      "source": [
        "*Exercise 4:* Modify exercise 3, so that it takes a matrix of the form from exercise 2 and draws a tic-tac-tie board with \"X\"s and \"O\"s.  "
      ]
    },
    {
      "cell_type": "code",
      "metadata": {
        "id": "TIVJCQyClNCc"
      },
      "source": [
        "def drawboard2(brd):\n",
        "  n = len(brd)\n",
        "  drawnbrd = ''\n",
        "  for i in range(n):\n",
        "    drawnbrd = drawnbrd+' ---'*n+' \\n'\n",
        "    for s in brd[i]:\n",
        "      vals = ' '\n",
        "      if s == 1:\n",
        "        vals = 'X'\n",
        "      elif s == 2:\n",
        "        vals = 'O'\n",
        "      drawnbrd = drawnbrd+'| '+vals+' '\n",
        "    drawnbrd = drawnbrd+'|\\n'\n",
        "  drawnbrd = drawnbrd+' ---'*n+' \\n'\n",
        "  print(drawnbrd)"
      ],
      "execution_count": 6,
      "outputs": []
    },
    {
      "cell_type": "code",
      "metadata": {
        "id": "W7BXKsuMlNCe",
        "outputId": "9e1143a4-e753-42fd-a6fd-7841c73276cb",
        "colab": {
          "base_uri": "https://localhost:8080/",
          "height": 153
        }
      },
      "source": [
        "drawboard2(winner_is_1)"
      ],
      "execution_count": null,
      "outputs": [
        {
          "output_type": "stream",
          "text": [
            " --- --- --- \n",
            "| X | O |   |\n",
            " --- --- --- \n",
            "| O | X |   |\n",
            " --- --- --- \n",
            "| O | X | X |\n",
            " --- --- --- \n",
            "\n"
          ],
          "name": "stdout"
        }
      ]
    },
    {
      "cell_type": "markdown",
      "metadata": {
        "id": "rQYmQswnlNCg"
      },
      "source": [
        "*Exercise 5:* Write a function that takes a game board, player number, and `(x,y)` coordinates and places \"X\" or \"O\" in the correct location of the game board. Make sure that you only allow filling previously empty locations. Return `True` or `False` to indicate successful placement of \"X\" or \"O\"."
      ]
    },
    {
      "cell_type": "code",
      "metadata": {
        "id": "GifEA27LlNCg"
      },
      "source": [
        "def turn(board, player, x, y):\n",
        "  success = False\n",
        "  if board[y][x] == 0:\n",
        "    board[y][x] = player\n",
        "    if board[y][x] == player:\n",
        "      success = True\n",
        "  return success"
      ],
      "execution_count": 7,
      "outputs": []
    },
    {
      "cell_type": "code",
      "metadata": {
        "id": "I07GKX-olNCj",
        "outputId": "4617931f-9dcc-4524-f032-457f787edd74",
        "colab": {
          "base_uri": "https://localhost:8080/",
          "height": 102
        }
      },
      "source": [
        "winner_is_2 = [[2, 2, 0],\n",
        "\t[2, 1, 0],\n",
        "\t[2, 1, 1]]\n",
        "print(winner_is_2)\n",
        "print(turn(winner_is_2, 1, 2, 0))\n",
        "print(winner_is_2)\n",
        "print(turn(winner_is_2, 1, 2, 0))\n",
        "print(winner_is_2)"
      ],
      "execution_count": null,
      "outputs": [
        {
          "output_type": "stream",
          "text": [
            "[[2, 2, 0], [2, 1, 0], [2, 1, 1]]\n",
            "True\n",
            "[[2, 2, 1], [2, 1, 0], [2, 1, 1]]\n",
            "False\n",
            "[[2, 2, 1], [2, 1, 0], [2, 1, 1]]\n"
          ],
          "name": "stdout"
        }
      ]
    },
    {
      "cell_type": "markdown",
      "metadata": {
        "id": "fCjQEGdglNCl"
      },
      "source": [
        "*Exercise 6:* Modify Exercise 4 to show column and row labels so that players can specify location using \"A2\" or \"C1\"."
      ]
    },
    {
      "cell_type": "code",
      "metadata": {
        "id": "CsHgie9KlNCl"
      },
      "source": [
        "def drawboard3(brd):\n",
        "  n = len(brd)\n",
        "  drawnbrd = ''\n",
        "  for i in range(n):\n",
        "    drawnbrd = drawnbrd+' -'+chr(ord('@')+(i+1))+'-'\n",
        "  drawnbrd = drawnbrd+'\\n'\n",
        "  for i in range(n):\n",
        "    drawnbrd = drawnbrd+str(i+1)\n",
        "    for s in brd[i]:\n",
        "      vals = ' '\n",
        "      if s == 1:\n",
        "        vals = 'X'\n",
        "      elif s == 2:\n",
        "        vals = 'O'\n",
        "      drawnbrd = drawnbrd+' '+vals+' |'\n",
        "    drawnbrd = drawnbrd+'\\n'\n",
        "    drawnbrd = drawnbrd+' ---'*n+' \\n'\n",
        "  print(drawnbrd)"
      ],
      "execution_count": 8,
      "outputs": []
    },
    {
      "cell_type": "code",
      "metadata": {
        "id": "9ameMGKflNCn",
        "outputId": "df56f4b3-65fc-4e21-e146-6f199035d2b0",
        "colab": {
          "base_uri": "https://localhost:8080/",
          "height": 153
        }
      },
      "source": [
        "drawboard3(winner_is_also_1)"
      ],
      "execution_count": null,
      "outputs": [
        {
          "output_type": "stream",
          "text": [
            " -A- -B- -C-\n",
            "1   | X |   |\n",
            " --- --- --- \n",
            "2 O | X |   |\n",
            " --- --- --- \n",
            "3 O | X | X |\n",
            " --- --- --- \n",
            "\n"
          ],
          "name": "stdout"
        }
      ]
    },
    {
      "cell_type": "markdown",
      "metadata": {
        "id": "E_XcvnEKlNCp"
      },
      "source": [
        "*Exercise 7:* Write a function that takes a board, player number, and location specified as in exercise 6 and then calls exercise 5 to correctly modify the board.  "
      ]
    },
    {
      "cell_type": "code",
      "metadata": {
        "id": "SZKyk6ZrlNCp"
      },
      "source": [
        "def move1(gboard, playernumber, loc):\n",
        "  let = ord(loc[0])-65\n",
        "  num = int(loc[1])-1\n",
        "  test = turn(gboard, playernumber, let, num)\n",
        "  drawboard3(gboard)\n",
        "  return test"
      ],
      "execution_count": 9,
      "outputs": []
    },
    {
      "cell_type": "code",
      "metadata": {
        "id": "g6MaZkD5_5Uj",
        "outputId": "d114c6bb-a5a7-425c-e4f0-17e4ac02d27f",
        "colab": {
          "base_uri": "https://localhost:8080/",
          "height": 34
        }
      },
      "source": [
        "ord('A')-65"
      ],
      "execution_count": null,
      "outputs": [
        {
          "output_type": "execute_result",
          "data": {
            "text/plain": [
              "0"
            ]
          },
          "metadata": {
            "tags": []
          },
          "execution_count": 197
        }
      ]
    },
    {
      "cell_type": "code",
      "metadata": {
        "id": "A7cJ0872lNCr",
        "outputId": "fd2030b2-c233-4eff-91bd-3a33f05073da",
        "colab": {
          "base_uri": "https://localhost:8080/",
          "height": 306
        }
      },
      "source": [
        "winner_is_2 = [[2, 2, 0],\n",
        "\t[2, 1, 0],\n",
        "\t[2, 1, 1]]\n",
        "drawboard3(winner_is_2)\n",
        "move1(winner_is_2, 1, 'C1')"
      ],
      "execution_count": 10,
      "outputs": [
        {
          "output_type": "stream",
          "text": [
            " -A- -B- -C-\n",
            "1 O | O |   |\n",
            " --- --- --- \n",
            "2 O | X |   |\n",
            " --- --- --- \n",
            "3 O | X | X |\n",
            " --- --- --- \n",
            "\n",
            " -A- -B- -C-\n",
            "1 O | O | X |\n",
            " --- --- --- \n",
            "2 O | X |   |\n",
            " --- --- --- \n",
            "3 O | X | X |\n",
            " --- --- --- \n",
            "\n"
          ],
          "name": "stdout"
        },
        {
          "output_type": "execute_result",
          "data": {
            "text/plain": [
              "True"
            ]
          },
          "metadata": {
            "tags": []
          },
          "execution_count": 10
        }
      ]
    },
    {
      "cell_type": "markdown",
      "metadata": {
        "id": "ROeI0y3JlNCu"
      },
      "source": [
        "*Exercise 8:* Write a function is called with a board and player number, takes input from the player using python's `input`, and modifies the board using your function from exercise 7. Note that you should keep asking for input until you have gotten a valid input that results in a valid move."
      ]
    },
    {
      "cell_type": "code",
      "metadata": {
        "id": "vmdvs6HTlNCu"
      },
      "source": [
        "def cturn(board, player):\n",
        "  loca = input('Player '+str(player)+', Make Your Move: ')\n",
        "  check = move1(board, player, loca)\n",
        "  if check == False:\n",
        "    cturn(board, player)\n"
      ],
      "execution_count": 11,
      "outputs": []
    },
    {
      "cell_type": "code",
      "metadata": {
        "id": "EE7q6WJblNCw",
        "outputId": "da06c765-0b39-44b3-df9b-51c28c3cf8cd",
        "colab": {
          "base_uri": "https://localhost:8080/",
          "height": 306
        }
      },
      "source": [
        "winner_is_2 = [[2, 2, 0],\n",
        "\t[2, 1, 0],\n",
        "\t[2, 1, 1]]\n",
        "drawboard3(winner_is_2)\n",
        "cturn(winner_is_2, 1)"
      ],
      "execution_count": null,
      "outputs": [
        {
          "output_type": "stream",
          "text": [
            " -A- -B- -C-\n",
            "1 O | O |   |\n",
            " --- --- --- \n",
            "2 O | X |   |\n",
            " --- --- --- \n",
            "3 O | X | X |\n",
            " --- --- --- \n",
            "\n",
            "Player 1, Make Your Move: C2\n",
            " -A- -B- -C-\n",
            "1 O | O |   |\n",
            " --- --- --- \n",
            "2 O | X | X |\n",
            " --- --- --- \n",
            "3 O | X | X |\n",
            " --- --- --- \n",
            "\n"
          ],
          "name": "stdout"
        }
      ]
    },
    {
      "cell_type": "markdown",
      "metadata": {
        "id": "2lXfQSEslNCy"
      },
      "source": [
        "*Exercise 9:* Use all of the previous exercises to implement a full tic-tac-toe game, where an appropriate board is drawn, 2 players are repeatedly asked for a location coordinates of where they wish to place a mark, and the game status is checked until a player wins or a draw occurs."
      ]
    },
    {
      "cell_type": "code",
      "metadata": {
        "id": "YNk4v1dSlNCy"
      },
      "source": [
        "def gamestart(boardsize=3):\n",
        "  gboard = emptybrd(boardsize)\n",
        "  state = -1\n",
        "  player = 1\n",
        "  drawboard3(gboard)\n",
        "  while state ==-1:\n",
        "    if player == 1:\n",
        "      cturn(gboard, 1)\n",
        "      player = 2\n",
        "    elif player == 2:\n",
        "      cturn(gboard, 2)\n",
        "      player = 1\n",
        "    state = checkwin(gboard)\n",
        "  if state == 0:\n",
        "    print('Game Ends in Draw')\n",
        "  else:\n",
        "    print('Player '+str(state)+' Wins!')"
      ],
      "execution_count": null,
      "outputs": []
    },
    {
      "cell_type": "code",
      "metadata": {
        "id": "MMeZqWidlNC0",
        "outputId": "e52744a2-3e2a-4bb1-fd42-341fdfd1e586",
        "colab": {
          "base_uri": "https://localhost:8080/",
          "height": 1000
        }
      },
      "source": [
        "gamestart()"
      ],
      "execution_count": null,
      "outputs": [
        {
          "output_type": "stream",
          "text": [
            " -A- -B- -C-\n",
            "1   |   |   |\n",
            " --- --- --- \n",
            "2   |   |   |\n",
            " --- --- --- \n",
            "3   |   |   |\n",
            " --- --- --- \n",
            "\n",
            "Player 1, Make Your Move: A1\n",
            " -A- -B- -C-\n",
            "1 X |   |   |\n",
            " --- --- --- \n",
            "2   |   |   |\n",
            " --- --- --- \n",
            "3   |   |   |\n",
            " --- --- --- \n",
            "\n",
            "Player 2, Make Your Move: B2\n",
            " -A- -B- -C-\n",
            "1 X |   |   |\n",
            " --- --- --- \n",
            "2   | O |   |\n",
            " --- --- --- \n",
            "3   |   |   |\n",
            " --- --- --- \n",
            "\n",
            "Player 1, Make Your Move: C3\n",
            " -A- -B- -C-\n",
            "1 X |   |   |\n",
            " --- --- --- \n",
            "2   | O |   |\n",
            " --- --- --- \n",
            "3   |   | X |\n",
            " --- --- --- \n",
            "\n",
            "Player 2, Make Your Move: C1\n",
            " -A- -B- -C-\n",
            "1 X |   | O |\n",
            " --- --- --- \n",
            "2   | O |   |\n",
            " --- --- --- \n",
            "3   |   | X |\n",
            " --- --- --- \n",
            "\n",
            "Player 1, Make Your Move: A3\n",
            " -A- -B- -C-\n",
            "1 X |   | O |\n",
            " --- --- --- \n",
            "2   | O |   |\n",
            " --- --- --- \n",
            "3 X |   | X |\n",
            " --- --- --- \n",
            "\n",
            "Player 2, Make Your Move: A1\n",
            " -A- -B- -C-\n",
            "1 X |   | O |\n",
            " --- --- --- \n",
            "2   | O |   |\n",
            " --- --- --- \n",
            "3 X |   | X |\n",
            " --- --- --- \n",
            "\n",
            "Player 2, Make Your Move: A2\n",
            " -A- -B- -C-\n",
            "1 X |   | O |\n",
            " --- --- --- \n",
            "2 O | O |   |\n",
            " --- --- --- \n",
            "3 X |   | X |\n",
            " --- --- --- \n",
            "\n",
            "Player 1, Make Your Move: B3\n",
            " -A- -B- -C-\n",
            "1 X |   | O |\n",
            " --- --- --- \n",
            "2 O | O |   |\n",
            " --- --- --- \n",
            "3 X | X | X |\n",
            " --- --- --- \n",
            "\n",
            "Player 1 Wins!\n"
          ],
          "name": "stdout"
        }
      ]
    },
    {
      "cell_type": "markdown",
      "metadata": {
        "id": "3EsFhX0GlNC1"
      },
      "source": [
        "*Exercise 10:* Test that your game works for 5x5 Tic Tac Toe.  "
      ]
    },
    {
      "cell_type": "code",
      "metadata": {
        "id": "RLC3-UGMlNC2",
        "outputId": "42ed0389-f0b1-4534-e00a-5b041318442c",
        "colab": {
          "base_uri": "https://localhost:8080/",
          "height": 1000
        }
      },
      "source": [
        "gamestart(5)"
      ],
      "execution_count": null,
      "outputs": [
        {
          "output_type": "stream",
          "text": [
            " -A- -B- -C- -D- -E-\n",
            "1   |   |   |   |   |\n",
            " --- --- --- --- --- \n",
            "2   |   |   |   |   |\n",
            " --- --- --- --- --- \n",
            "3   |   |   |   |   |\n",
            " --- --- --- --- --- \n",
            "4   |   |   |   |   |\n",
            " --- --- --- --- --- \n",
            "5   |   |   |   |   |\n",
            " --- --- --- --- --- \n",
            "\n",
            "Player 1, Make Your Move: A1\n",
            " -A- -B- -C- -D- -E-\n",
            "1 X |   |   |   |   |\n",
            " --- --- --- --- --- \n",
            "2   |   |   |   |   |\n",
            " --- --- --- --- --- \n",
            "3   |   |   |   |   |\n",
            " --- --- --- --- --- \n",
            "4   |   |   |   |   |\n",
            " --- --- --- --- --- \n",
            "5   |   |   |   |   |\n",
            " --- --- --- --- --- \n",
            "\n",
            "Player 2, Make Your Move: E1\n",
            " -A- -B- -C- -D- -E-\n",
            "1 X |   |   |   | O |\n",
            " --- --- --- --- --- \n",
            "2   |   |   |   |   |\n",
            " --- --- --- --- --- \n",
            "3   |   |   |   |   |\n",
            " --- --- --- --- --- \n",
            "4   |   |   |   |   |\n",
            " --- --- --- --- --- \n",
            "5   |   |   |   |   |\n",
            " --- --- --- --- --- \n",
            "\n",
            "Player 1, Make Your Move: B2\n",
            " -A- -B- -C- -D- -E-\n",
            "1 X |   |   |   | O |\n",
            " --- --- --- --- --- \n",
            "2   | X |   |   |   |\n",
            " --- --- --- --- --- \n",
            "3   |   |   |   |   |\n",
            " --- --- --- --- --- \n",
            "4   |   |   |   |   |\n",
            " --- --- --- --- --- \n",
            "5   |   |   |   |   |\n",
            " --- --- --- --- --- \n",
            "\n",
            "Player 2, Make Your Move: C3\n",
            " -A- -B- -C- -D- -E-\n",
            "1 X |   |   |   | O |\n",
            " --- --- --- --- --- \n",
            "2   | X |   |   |   |\n",
            " --- --- --- --- --- \n",
            "3   |   | O |   |   |\n",
            " --- --- --- --- --- \n",
            "4   |   |   |   |   |\n",
            " --- --- --- --- --- \n",
            "5   |   |   |   |   |\n",
            " --- --- --- --- --- \n",
            "\n",
            "Player 1, Make Your Move: B3\n",
            " -A- -B- -C- -D- -E-\n",
            "1 X |   |   |   | O |\n",
            " --- --- --- --- --- \n",
            "2   | X |   |   |   |\n",
            " --- --- --- --- --- \n",
            "3   | X | O |   |   |\n",
            " --- --- --- --- --- \n",
            "4   |   |   |   |   |\n",
            " --- --- --- --- --- \n",
            "5   |   |   |   |   |\n",
            " --- --- --- --- --- \n",
            "\n",
            "Player 2, Make Your Move: D2\n",
            " -A- -B- -C- -D- -E-\n",
            "1 X |   |   |   | O |\n",
            " --- --- --- --- --- \n",
            "2   | X |   | O |   |\n",
            " --- --- --- --- --- \n",
            "3   | X | O |   |   |\n",
            " --- --- --- --- --- \n",
            "4   |   |   |   |   |\n",
            " --- --- --- --- --- \n",
            "5   |   |   |   |   |\n",
            " --- --- --- --- --- \n",
            "\n",
            "Player 1, Make Your Move: B1\n",
            " -A- -B- -C- -D- -E-\n",
            "1 X | X |   |   | O |\n",
            " --- --- --- --- --- \n",
            "2   | X |   | O |   |\n",
            " --- --- --- --- --- \n",
            "3   | X | O |   |   |\n",
            " --- --- --- --- --- \n",
            "4   |   |   |   |   |\n",
            " --- --- --- --- --- \n",
            "5   |   |   |   |   |\n",
            " --- --- --- --- --- \n",
            "\n",
            "Player 2, Make Your Move: B4\n",
            " -A- -B- -C- -D- -E-\n",
            "1 X | X |   |   | O |\n",
            " --- --- --- --- --- \n",
            "2   | X |   | O |   |\n",
            " --- --- --- --- --- \n",
            "3   | X | O |   |   |\n",
            " --- --- --- --- --- \n",
            "4   | O |   |   |   |\n",
            " --- --- --- --- --- \n",
            "5   |   |   |   |   |\n",
            " --- --- --- --- --- \n",
            "\n",
            "Player 1, Make Your Move: B5\n",
            " -A- -B- -C- -D- -E-\n",
            "1 X | X |   |   | O |\n",
            " --- --- --- --- --- \n",
            "2   | X |   | O |   |\n",
            " --- --- --- --- --- \n",
            "3   | X | O |   |   |\n",
            " --- --- --- --- --- \n",
            "4   | O |   |   |   |\n",
            " --- --- --- --- --- \n",
            "5   | X |   |   |   |\n",
            " --- --- --- --- --- \n",
            "\n",
            "Player 2, Make Your Move: A5\n",
            " -A- -B- -C- -D- -E-\n",
            "1 X | X |   |   | O |\n",
            " --- --- --- --- --- \n",
            "2   | X |   | O |   |\n",
            " --- --- --- --- --- \n",
            "3   | X | O |   |   |\n",
            " --- --- --- --- --- \n",
            "4   | O |   |   |   |\n",
            " --- --- --- --- --- \n",
            "5 O | X |   |   |   |\n",
            " --- --- --- --- --- \n",
            "\n",
            "Player 2 Wins!\n"
          ],
          "name": "stdout"
        }
      ]
    },
    {
      "cell_type": "markdown",
      "metadata": {
        "id": "kX80H-zklNC4"
      },
      "source": [
        "*Exercise 11: (Extra Credit)* Develop a version of the game where one player is the computer. Note that you don't need to do an extensive seach for the best move. You can have the computer simply protect against loosing and otherwise try to win with straight or diagonal patterns."
      ]
    },
    {
      "cell_type": "markdown",
      "metadata": {
        "id": "YuAfGdFcDjMx"
      },
      "source": [
        "**THE FOLLOWING CODE DOES NOT WORK**"
      ]
    },
    {
      "cell_type": "code",
      "metadata": {
        "id": "_ECREERPlNC4"
      },
      "source": [
        "import copy\n",
        "def comturn(board, player):\n",
        "  #calculate move\n",
        "  tempboard = copy.deepcopy(board)\n",
        "  n = len(tempboard)\n",
        "  templist = list()\n",
        "  for a in range(n):\n",
        "    for b in range(n):\n",
        "      if tempboard[a][b]==0:\n",
        "        supertemplist = list()\n",
        "        supertemplist.append(a)\n",
        "        supertemplist.append(b)\n",
        "        supertempboard = copy.deepcopy(tempboard)\n",
        "        turn(supertempboard, 2, a, b)\n",
        "        qcheck = checkwin(supertempboard)\n",
        "        if qcheck == 0 or qcheck == 2:\n",
        "          supertemplist.append(0)\n",
        "          supertemplist.append(qcheck)\n",
        "        else: \n",
        "          temploserlevel = list()\n",
        "          for c in range(n):\n",
        "            for d in range(n):\n",
        "              if supertempboard[c][d]==0:\n",
        "                extrasupertempboard = copy.deepcopy(supertempboard)\n",
        "                turn(extrasupertempboard, 1, c, d)\n",
        "                rcheck = checkwin(extrasupertempboard)\n",
        "                if rcheck < 1:\n",
        "                  temploserlevel.append(0)\n",
        "                else:\n",
        "                  temploserlevel.append(rcheck)\n",
        "          ll = sum(temploserlevel)\n",
        "          supertemplist.append(ll)\n",
        "          supertemplist.append(1)\n",
        "        templist.append(supertemplist)\n",
        "  possiblescores = list()\n",
        "  loserlevel = list()\n",
        "  for s in templist:\n",
        "    possiblescores.append(s[-1])\n",
        "    loserlevel.append(s[-2])\n",
        "  try:\n",
        "    m = possiblescores.index(2)\n",
        "  except:\n",
        "    try:\n",
        "      m = possiblescores.index(0)\n",
        "    except:\n",
        "      m = loserlevel.index(min(loserlevel))\n",
        "\n",
        "  #bestmove\n",
        "  locax = templist[m][1]\n",
        "  locay = templist[m][0]\n",
        "  turn(board, 2, locax, locay)\n",
        "  drawboard3(board)\n",
        "  \n",
        "def gamestartvcom(boardsize=3):\n",
        "  gboard = emptybrd(boardsize)\n",
        "  state = -1\n",
        "  player = 1\n",
        "  drawboard3(gboard)\n",
        "  while state ==-1:\n",
        "    if player == 1:\n",
        "      cturn(gboard, 1)\n",
        "      player = 2\n",
        "    elif player == 2:\n",
        "      if state == -1:\n",
        "        comturn(gboard, 2)\n",
        "        player = 1\n",
        "    state = checkwin(gboard)\n",
        "  if state == 0:\n",
        "    print('Game Ends in Draw')\n",
        "  else:\n",
        "    print('Player '+str(state)+' Wins!')"
      ],
      "execution_count": 52,
      "outputs": []
    },
    {
      "cell_type": "code",
      "metadata": {
        "id": "VE5WPSoOlNC7",
        "outputId": "70a5e7f0-1ced-474b-ee42-87df34094bd0",
        "colab": {
          "base_uri": "https://localhost:8080/",
          "height": 1000
        }
      },
      "source": [
        "gamestartvcom(3)"
      ],
      "execution_count": 53,
      "outputs": [
        {
          "output_type": "stream",
          "text": [
            " -A- -B- -C-\n",
            "1   |   |   |\n",
            " --- --- --- \n",
            "2   |   |   |\n",
            " --- --- --- \n",
            "3   |   |   |\n",
            " --- --- --- \n",
            "\n",
            "Player 1, Make Your Move: A1\n",
            " -A- -B- -C-\n",
            "1 X |   |   |\n",
            " --- --- --- \n",
            "2   |   |   |\n",
            " --- --- --- \n",
            "3   |   |   |\n",
            " --- --- --- \n",
            "\n",
            " -A- -B- -C-\n",
            "1 X | O |   |\n",
            " --- --- --- \n",
            "2   |   |   |\n",
            " --- --- --- \n",
            "3   |   |   |\n",
            " --- --- --- \n",
            "\n",
            "Player 1, Make Your Move: C3\n",
            " -A- -B- -C-\n",
            "1 X | O |   |\n",
            " --- --- --- \n",
            "2   |   |   |\n",
            " --- --- --- \n",
            "3   |   | X |\n",
            " --- --- --- \n",
            "\n",
            " -A- -B- -C-\n",
            "1 X | O |   |\n",
            " --- --- --- \n",
            "2   | O |   |\n",
            " --- --- --- \n",
            "3   |   | X |\n",
            " --- --- --- \n",
            "\n",
            "Player 1, Make Your Move: A3\n",
            " -A- -B- -C-\n",
            "1 X | O |   |\n",
            " --- --- --- \n",
            "2   | O |   |\n",
            " --- --- --- \n",
            "3 X |   | X |\n",
            " --- --- --- \n",
            "\n",
            " -A- -B- -C-\n",
            "1 X | O |   |\n",
            " --- --- --- \n",
            "2   | O | O |\n",
            " --- --- --- \n",
            "3 X |   | X |\n",
            " --- --- --- \n",
            "\n",
            "Player 1, Make Your Move: C1\n",
            " -A- -B- -C-\n",
            "1 X | O | X |\n",
            " --- --- --- \n",
            "2   | O | O |\n",
            " --- --- --- \n",
            "3 X |   | X |\n",
            " --- --- --- \n",
            "\n",
            " -A- -B- -C-\n",
            "1 X | O | X |\n",
            " --- --- --- \n",
            "2 O | O | O |\n",
            " --- --- --- \n",
            "3 X |   | X |\n",
            " --- --- --- \n",
            "\n",
            "Player 2 Wins!\n"
          ],
          "name": "stdout"
        }
      ]
    }
  ]
}